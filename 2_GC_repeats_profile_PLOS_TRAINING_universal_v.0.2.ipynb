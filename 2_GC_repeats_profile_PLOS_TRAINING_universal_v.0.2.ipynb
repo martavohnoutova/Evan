{
 "cells": [
  {
   "cell_type": "markdown",
   "id": "b43330b3-769b-4182-b992-4b563b222193",
   "metadata": {},
   "source": [
    "# Comparison of GC of cephalopods in Ensembl or NCBI releases\n",
    "# batch 3 - with spaces and \"N\" in genome with different color than cmap\n",
    "\n",
    "<font color='red'>**For production**</font>\n",
    "\n",
    "<font color='red'>**New version for Cephalopods**</font>\n",
    "\n",
    "all done in batch - data are prepared by **batch_for_cephalophod_GC_repeats_profile_PLOS.py** in the same directory"
   ]
  },
  {
   "cell_type": "markdown",
   "id": "29667070-9c96-46b7-8e05-a28738dfc30c",
   "metadata": {},
   "source": [
    "Marta Vohnoutová, Radka Symonová\n",
    "\n",
    "version 0.3\n",
    "\n",
    "Changes:\n",
    "    \n",
    "    - dots in graphs - same density - adjasted to left\n",
    "    - pick up chromosomes only - universal\n",
    "    - with spaces and \"N\" in genome with different color than cmap"
   ]
  },
  {
   "cell_type": "markdown",
   "id": "9a25e608-3b91-4380-83f2-d8a9396855b7",
   "metadata": {},
   "source": [
    "## <font color='red'>2.Import section</font>"
   ]
  },
  {
   "cell_type": "code",
   "execution_count": 23,
   "id": "784f3a76-9d24-4177-93a4-f5bd9fb07c33",
   "metadata": {},
   "outputs": [],
   "source": [
    "#import pyensembl\n",
    "\n",
    "from Bio import SeqIO\n",
    "from Bio.SeqUtils import gc_fraction\n",
    "import matplotlib\n",
    "matplotlib.use('Agg')\n",
    "import matplotlib.pyplot as plt\n",
    "from matplotlib.colors import ListedColormap\n",
    "from matplotlib.ticker import FormatStrFormatter, StrMethodFormatter\n",
    "from matplotlib.ticker import MaxNLocator\n",
    "from matplotlib import font_manager, cm\n",
    "plt.rcParams[\"figure.figsize\"] = [20.00, 20.00]\n",
    "import pandas as pd\n",
    "import numpy as np\n",
    "import os\n",
    "import csv\n",
    "from collections import OrderedDict\n",
    "from PIL import Image\n",
    "from glob import glob\n",
    "import pickle"
   ]
  },
  {
   "cell_type": "markdown",
   "id": "dedede07-c31a-4128-92e6-f7c28403a852",
   "metadata": {},
   "source": [
    "## <font color='red'>3.Configuration and download section</font>"
   ]
  },
  {
   "cell_type": "code",
   "execution_count": 24,
   "id": "5d83072e-d2ee-401c-99ac-5728c53122bc",
   "metadata": {},
   "outputs": [
    {
     "name": "stdout",
     "output_type": "stream",
     "text": [
      "/mnt/data/marta/evan/PlosComp/dataOIST\n"
     ]
    }
   ],
   "source": [
    "!pwd"
   ]
  },
  {
   "cell_type": "markdown",
   "id": "e54aefcd-3491-4ae5-b61d-ca677aa51ac5",
   "metadata": {},
   "source": [
    "# save what_to_operate for next usage"
   ]
  },
  {
   "cell_type": "raw",
   "id": "6286c9f3-fb09-4042-8e35-2b2f940b60cd",
   "metadata": {},
   "source": [
    "with open('/home/marta/marta/marta/evan/PlosComp/dataOIST/pickles/what_to_operate_Euprymna_scolopes_CM044487.pkl', 'wb') as f:\n",
    "    pickle.dump(what_to_operate, f, pickle.HIGHEST_PROTOCOL)"
   ]
  },
  {
   "cell_type": "code",
   "execution_count": 25,
   "id": "d9c1d301-a4be-4848-a8bb-6c95e766449e",
   "metadata": {},
   "outputs": [],
   "source": [
    "# read what_to_operate from pickle\n",
    "\n",
    "file = open('/home/marta/marta/marta/evan/PlosComp/dataOIST/pickles/what_to_operate_Prochlorococcus_marinus.pkl','rb')\n",
    "what_to_operate = pickle.load(file)\n",
    "file.close()"
   ]
  },
  {
   "cell_type": "raw",
   "id": "c9e28968-b5d2-4518-8a27-5901fd745930",
   "metadata": {},
   "source": [
    "what_to_operate = [['/home/marta/marta/marta/evan/PlosComp/dataOIST/temp/GCA_024364805.1_ASM2436480v1_chromosomes_soft_masked_ok.fa',\n",
    "  'Euprymna scolopes CM044512',\n",
    "  [2000, 3000, 4000],\n",
    "  'rec.id.startswith(\"CM044512\")',\n",
    "  'Cephalopoda']]"
   ]
  },
  {
   "cell_type": "code",
   "execution_count": 26,
   "id": "7adff49e-66eb-4063-85d2-3054edb98c2c",
   "metadata": {},
   "outputs": [
    {
     "data": {
      "text/plain": [
       "[['/home/marta/marta/marta/evan/PlosComp/dataOIST/Ansgar/Prochlorococcus_marinus/marinus_Anasgar.fasta',\n",
       "  'Prochlorococcus_marinus',\n",
       "  [1000],\n",
       "  'rec.id.startswith(\"NZ\")',\n",
       "  'Ansgar']]"
      ]
     },
     "execution_count": 26,
     "metadata": {},
     "output_type": "execute_result"
    }
   ],
   "source": [
    "what_to_operate"
   ]
  },
  {
   "cell_type": "markdown",
   "id": "68d16536-9660-4725-b412-c53a4c3114df",
   "metadata": {},
   "source": [
    "### 3.1 Variable part - replace with right values"
   ]
  },
  {
   "cell_type": "code",
   "execution_count": 27,
   "id": "64dfa0ab-b6bc-41f2-ba01-27deeaed9d7d",
   "metadata": {},
   "outputs": [],
   "source": [
    "where_i_am = '/mnt/data/marta/evan/PlosComp/dataOIST/' # replace with your path\n",
    "column_name = 'GC DNA' # replace with your column name"
   ]
  },
  {
   "cell_type": "markdown",
   "id": "0dbbe7cd-aa8e-4562-8da9-c8043702b20a",
   "metadata": {},
   "source": [
    "#### Create subdirectory for particular species"
   ]
  },
  {
   "cell_type": "raw",
   "id": "7ef0d9b6-9ed4-4e51-9dde-d1b4892b18a7",
   "metadata": {},
   "source": [
    "try:\n",
    "    os.mkdir(f'{where_is_fasta}{species}')\n",
    "except OSError as error:\n",
    "    pass"
   ]
  },
  {
   "cell_type": "markdown",
   "id": "b47c6b5d-75df-4646-88a9-b98aaecc75d7",
   "metadata": {},
   "source": [
    "# DNA only relese ..... - pandas table"
   ]
  },
  {
   "cell_type": "markdown",
   "id": "55988f40-7540-4f78-a5a8-cfbed8848db8",
   "metadata": {},
   "source": [
    "## GC DNA release ..... as a batch in cycle"
   ]
  },
  {
   "cell_type": "code",
   "execution_count": 28,
   "id": "f96cbccf-178c-4903-8414-89e4a4d682fa",
   "metadata": {},
   "outputs": [],
   "source": [
    "def how_many(my_seq,string):\n",
    "    my_sum=0\n",
    "    for base in string:\n",
    "        my_sum += my_seq.count(base)\n",
    "    return my_sum"
   ]
  },
  {
   "cell_type": "code",
   "execution_count": 29,
   "id": "4cca85d6-ac71-43a5-8512-85055f12643a",
   "metadata": {},
   "outputs": [],
   "source": [
    "# Constants for graph\n",
    "column_name = 'GC DNA' # replace with your column name\n",
    "# Set a special value that should be colored differently\n",
    "special_value = 0.0\n",
    "\n",
    "bottom = cm.get_cmap('RdYlGn', 255)\n",
    "special_color = (0.0,0.0,0.999,0.999)\n",
    "newcolors = np.vstack((special_color,bottom(np.linspace(0, 1, 255))))\n",
    "new_cmap = ListedColormap(newcolors, name='new_RdYlGn')\n",
    "\n",
    "slight_move=0.009         "
   ]
  },
  {
   "cell_type": "code",
   "execution_count": 30,
   "id": "b1617d3f-f42c-4cbc-8b45-0f9755e7bb69",
   "metadata": {},
   "outputs": [
    {
     "name": "stdout",
     "output_type": "stream",
     "text": [
      "/home/marta/marta/marta/evan/PlosComp/dataOIST/Ansgar/Prochlorococcus_marinus/marinus_Anasgar.fasta 1000\n",
      "Done Prochlorococcus_marinus\n"
     ]
    }
   ],
   "source": [
    "for my_fasta_file in what_to_operate:  #highest level\n",
    "    for my_window in my_fasta_file[2]:\n",
    "        print(my_fasta_file[0],my_window)\n",
    "        sec_values = '' # replace with your release number\n",
    "        c=[]\n",
    "\n",
    "        GC_chromosoms=OrderedDict()\n",
    "        chomosome_no=0\n",
    "\n",
    "        gc_values=tuple()\n",
    "\n",
    "        d_sec_values = dict()\n",
    "\n",
    "        max_len=max([len(rec.seq) for rec in SeqIO.parse(f\"{my_fasta_file[0]}\", \"fasta\")]) # max len to adjust x axis\n",
    "\n",
    "        for rec in SeqIO.parse(f\"{my_fasta_file[0]}\", \"fasta\"): \n",
    "            GC_chromosoms_windowed={}  # per chromosome\n",
    "            if eval(my_fasta_file[3]):  # chromosomes only\n",
    "        \n",
    "                # count GC values via sliding windows\n",
    "                c.append(rec.id)\n",
    "                sec_values += rec.seq\n",
    "                if len(sec_values) >= 10*my_window:\n",
    "                    gc_values = gc_values + tuple(gc_fraction(sec_values[i:i+my_window]) for i in range(0,len(sec_values),my_window)) # replace with your release number\n",
    "                    sec_values = ''\n",
    "        \n",
    "                # chromosomes\n",
    "                soft_mask= how_many(rec.seq,'acgt')\n",
    "                ALL_all=how_many(rec.seq,'acgtACGT')\n",
    "                GC_fraction=gc_fraction(rec.seq)\n",
    "                chomosome_no += 1\n",
    "                try:\n",
    "                    GC_chromosoms[str(chomosome_no) + '+' + rec.id]=((GC_fraction,soft_mask/ALL_all),len(rec.seq))  # we distract N and n   \n",
    "                except ZeroDivisionError:\n",
    "                    GC_chromosoms[str(chomosome_no)+'+'+ rec.id]=((GC_fraction,0.0), len(rec.seq)) # distract N and n\n",
    "        \n",
    "                # count bases\n",
    "                for base in 'acgtACGTNn':\n",
    "                    if base in d_sec_values:\n",
    "                        d_sec_values[base] += rec.seq.count(base)\n",
    "                    else:\n",
    "                        d_sec_values[base] = rec.seq.count(base)\n",
    "                \n",
    "                # graphs\n",
    "                for w in range(0,len(rec.seq),my_window):\n",
    "              \n",
    "                    #print(range(i,i+window),len(gc_values_94[i:i+window]))\n",
    "                    soft_mask= rec.seq[w:w+my_window].count('a') + rec.seq[w:w+my_window].count('t') + rec.seq[w:w+my_window].count('c') + rec.seq[w:w+my_window].count('g') \n",
    "                    ALL_all=soft_mask + rec.seq[w:w+my_window].count('A') + rec.seq[w:w+my_window].count('T') + rec.seq[w:w+my_window].count('C') + rec.seq[w:w+my_window].count('G')\n",
    "                    GC_fraction=gc_fraction(rec.seq[w:w+my_window])\n",
    "            \n",
    "                    try:\n",
    "                        GC_chromosoms_windowed[str(w)+'|'+ rec.id]=(GC_fraction,soft_mask/ALL_all)  # distract N and n    \n",
    "                        #print(range(i,i+window),len(gc_values_94[i:i+window])) \n",
    "                    except ZeroDivisionError:\n",
    "                        GC_chromosoms_windowed[str(w)+'|'+ rec.id]=(GC_fraction,0.0)  # distract N and n\n",
    "                        \n",
    "                # adjusted chromosome density\n",
    "                #print(rec.id)                \n",
    "            \n",
    "                #fig = plt.figure(figsize=(int(50* (len(rec.seq)/max_len)),int(20* (len(rec.seq)/max_len))))\n",
    "                fig = plt.figure(figsize=(50,20))\n",
    "                ax1 = fig.add_subplot(111)\n",
    "                \n",
    "                ax1.use_sticky_edges = True\n",
    "        \n",
    "                names = list(GC_chromosoms_windowed.keys())\n",
    "                \n",
    "                v = list(GC_chromosoms_windowed.values())\n",
    "                v1=[100 * i[0] for i in v]\n",
    "                #v2=[i[1] for i in v]\n",
    "                names_part=[n.split('|')[0] for n in names]             \n",
    "                #values = np.array([special_value if (i[0]+i[1] == 0 and ALL_all== 0) else i[1]+slight_move if (i[1] => 0.0 and i[1] <= 0.00390625 and ALL_all > 0) else i[1] for i in v])  # values for special_indices\n",
    "                values = np.array([special_value if i[0]+i[1] == 0 else i[1]+slight_move if (i[1] ==0 and i[0] != 0) else i[1] for i in v])  # values for special_indices\n",
    "       \n",
    "                if ALL_all== 0:\n",
    "                    print('blue',rec.id,rec.seq)\n",
    "                \n",
    "                sc=ax1.scatter(names_part,v1, s=5, c=values,  cmap=new_cmap, marker=\"o\", label='Blue dots are \"NNnn\" or spaces' ) # only GC fraction in y axe, only chromosomes\n",
    "                \n",
    "                ax1.grid(True)        \n",
    "                \n",
    "                #locator=MaxNLocator(prune='both',nbins=10) # Adjust the number of ticks as needed\n",
    "                #ax1.yaxis.set_major_locator(locator)\n",
    "                ax1.xaxis.set_ticks(np.arange(0, max_len//my_window, max_len//12000))   \n",
    "                #ax1.set_xlim(0, max_len)\n",
    "                #plt.xlim(0, max_len)\n",
    "                \n",
    "                #ax1.xaxis.set_major_formatter(StrMethodFormatter('{x:,}'))\n",
    "                ax1.set_facecolor(\"lightgrey\")   \n",
    "        \n",
    "                plt.title(f'GC% values of {my_fasta_file[1]} with {my_window} - chromosome {rec.id}', fontsize = 35) # replace the animal name and release no.\n",
    "                plt.ylabel('GC fraction', fontsize = 30)\n",
    "                plt.xlabel(f'Chromosome {rec.id} windows', fontsize = 30)\n",
    "                #plt.xticks(np.arange(0, max_len, max_len//divide_by))\n",
    "                plt.xticks(fontsize = 20, rotation = 30)\n",
    "                plt.yticks(fontsize = 30)\n",
    "                plt.legend(labelcolor='blue')\n",
    "                \n",
    "                cbar=plt.colorbar(sc,label=\"Red 0% soft-masked to green 100% soft-masked\", orientation=\"horizontal\")\n",
    "        \n",
    "                text = cbar.ax.xaxis.label\n",
    "                font = font_manager.FontProperties(size=35)\n",
    "                text.set_font_properties(font)        \n",
    "        \n",
    "                tick_font_size = 35\n",
    "                cbar.ax.tick_params(labelsize=tick_font_size)\n",
    "               \n",
    "                \n",
    "                plt.savefig(f'{where_i_am}{my_fasta_file[4]}/{my_fasta_file[1]}/{my_fasta_file[1]}_{my_window}_profile_soft_unmask_with_{rec.id}.png')  # replace the animal name and release no.\n",
    "                #plt.show()\n",
    "                plt.close('all')\n",
    "       \n",
    "                with open(f'{where_i_am}{my_fasta_file[4]}/{my_fasta_file[1]}/{my_fasta_file[1]}_{my_window}_profile_soft_unmask_{rec.id}.csv','w') as f: # replace the animal name and release no.\n",
    "                    csv_file = csv.writer(f)\n",
    "                    csv_file.writerows(GC_chromosoms_windowed.items())\n",
    "               \n",
    "               \n",
    "        columns_dna = [column_name] # replace with your name e.g. release number - default GC_DNA\n",
    "        gc_df_dna = pd.DataFrame(gc_values, columns = columns_dna) # replace with your release number\n",
    "\n",
    "        #all_images = sorted([os.path.basename(f) for f in glob(f\"{where_i_am}{my_fasta_file[1]}/*profile*.png\")],key=lambda x: int(x.split('_')[-1].split('.')[0]))\n",
    "\n",
    "        GC_chromosoms = OrderedDict(sorted(GC_chromosoms.items(), key=lambda x: x[1][1],reverse=True))\n",
    "\n",
    "        #max_len=max(lengths)\n",
    "    \n",
    "        gc_df_dna.to_csv(f'{where_i_am}{my_fasta_file[4]}/{my_fasta_file[1]}/{my_fasta_file[1]}_per_windows_{my_window}.csv')\n",
    "    \n",
    "        #GC_chromosoms # replace with your release number\n",
    "    \n",
    "        with open(f'{where_i_am}{my_fasta_file[4]}/{my_fasta_file[1]}/{my_fasta_file[1]}_{my_window}.csv','w') as f:  # name csv file as you wish \n",
    "            for k,v in GC_chromosoms.items():\n",
    "                f.write(f'{k.split(\"+\")[0]},{k.split(\"+\")[1]},{v[0][0]},{v[0][1]},{v[1]}\\n')\n",
    "                \n",
    "        # scattered graphs - color by value, no display\n",
    "        \n",
    "        fig = plt.figure(figsize=(15,10))\n",
    "        ax1 = fig.add_subplot(111)\n",
    "        ax1.set_facecolor(\"lightgrey\")  \n",
    "        ax1.use_sticky_edges = True\n",
    "        #ax1.margins(x=0.0,y=0.0)\n",
    "        #print(range(i,i+window),len(gc_values_94[i:i+window]))\n",
    "        \n",
    "        names = list(i.split('+')[0] for i in GC_chromosoms.keys())\n",
    "        v = list(GC_chromosoms.values())\n",
    "        v1=[100 * i[0][0] for i in v]\n",
    "        v2=[i[0][1] for i in v]\n",
    "\n",
    "        sc=ax1.scatter(names,v1, s=150, c=v2, cmap='RdYlGn', marker=\"o\", ) # only GC fraction in y axe, only chromosomes\n",
    "        \n",
    "        plt.grid(True)\n",
    "        plt.title(f'GC% means of size-sorted chromosomes with {my_window} in {my_fasta_file[1]} ', fontsize = 18)  # Replace the animal name\n",
    "        plt.ylabel('GC fraction', fontsize = 15)\n",
    "        plt.xlabel('Chromosomes', fontsize = 15)\n",
    "        plt.xticks(rotation = 30, fontsize = 12)\n",
    "        plt.yticks(fontsize = 12)\n",
    "        plt.colorbar(sc,label=\"Red 0% soft-masked to green 100% soft-masked\", orientation=\"horizontal\")\n",
    "        plt.savefig(f'{where_i_am}{my_fasta_file[4]}/{my_fasta_file[1]}/{my_fasta_file[1]}_soft_unmask_per_chromosomes_{my_window}_{my_fasta_file[1]}.png')  # Replace the animal name\n",
    "        #plt.show()\n",
    "        plt.close('all')\n",
    "        print(f'Done {my_fasta_file[1]}')\n",
    "        \n",
    "       \n",
    "        "
   ]
  },
  {
   "cell_type": "code",
   "execution_count": null,
   "id": "080f70a4-1888-451a-b8fe-f0b61465be38",
   "metadata": {},
   "outputs": [],
   "source": []
  },
  {
   "cell_type": "code",
   "execution_count": 35,
   "id": "e7ea7f88-fd82-4869-8230-7623b444cf55",
   "metadata": {},
   "outputs": [
    {
     "name": "stderr",
     "output_type": "stream",
     "text": [
      "/tmp/ipykernel_6002/1129545953.py:25: UserWarning: Matplotlib is currently using agg, which is a non-GUI backend, so cannot show the figure.\n",
      "  plt.show()\n"
     ]
    }
   ],
   "source": []
  },
  {
   "cell_type": "code",
   "execution_count": 9,
   "id": "6425a0ca-d787-47fc-b5a8-f86621ad9726",
   "metadata": {},
   "outputs": [
    {
     "name": "stderr",
     "output_type": "stream",
     "text": [
      "/tmp/ipykernel_28093/3725709926.py:31: UserWarning: Matplotlib is currently using agg, which is a non-GUI backend, so cannot show the figure.\n",
      "  plt.show()\n"
     ]
    }
   ],
   "source": []
  },
  {
   "cell_type": "code",
   "execution_count": null,
   "id": "c7a84f1c-2ef3-4b36-86b1-8a92fab55767",
   "metadata": {},
   "outputs": [],
   "source": []
  }
 ],
 "metadata": {
  "kernelspec": {
   "display_name": "evan",
   "language": "python",
   "name": "evan"
  },
  "language_info": {
   "codemirror_mode": {
    "name": "ipython",
    "version": 3
   },
   "file_extension": ".py",
   "mimetype": "text/x-python",
   "name": "python",
   "nbconvert_exporter": "python",
   "pygments_lexer": "ipython3",
   "version": "3.9.13"
  }
 },
 "nbformat": 4,
 "nbformat_minor": 5
}
