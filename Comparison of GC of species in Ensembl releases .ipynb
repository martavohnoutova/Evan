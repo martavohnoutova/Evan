{
 "cells": [
  {
   "cell_type": "markdown",
   "id": "83eea6b9-0cd2-4d3e-b8fd-0b997d43f6bc",
   "metadata": {},
   "source": [
    "# Comparison of GC of species in Ensembl releases\n",
    "\n",
    "<font color='red'>**Guide of usage**</font>"
   ]
  },
  {
   "cell_type": "markdown",
   "id": "f1ef68cd-f238-4e9b-9f9d-7a8d9adb25db",
   "metadata": {},
   "source": [
    "Marta Vohnoutová, Radka Symonová\n",
    "\n",
    "version 0.1"
   ]
  },
  {
   "cell_type": "markdown",
   "id": "653e5b07-806f-4b73-a662-edeaa80e0b4f",
   "metadata": {},
   "source": [
    "## <font color='red'>1. Introduction</font>\n",
    "\n",
    "### <font color='red'>1.1 Setup of environment</font>"
   ]
  },
  {
   "cell_type": "markdown",
   "id": "3b1d8515-f186-432d-9ac0-c1a56001cacf",
   "metadata": {},
   "source": [
    "This is the template to run your own setup of GC comparisons of species of your own.\n",
    "\n",
    "1. **At first, you must create your environment.**\n",
    "\n",
    "- **install Anaconda (description for linux Ubuntu v.22)**\n",
    "\n",
    "$ sudo apt update\n",
    "\n",
    "$ sudo apt install curl\n",
    "\n",
    "$ curl --output anaconda.sh https://repo.anaconda.com/archive/Anaconda3-5.3.1-Linux-x86_64.sh\n",
    "\n",
    "$ sha256sum Anaconda3-5.3.1-Linux-x86_64.sh\n",
    "\n",
    "$ bash Anaconda3-5.3.1-Linux-x86_64.sh\n",
    "\n",
    "\n",
    "2. **Create and activate your environment**"
   ]
  },
  {
   "cell_type": "raw",
   "id": "295e97d1-8456-4eae-a765-35ab399f0399",
   "metadata": {},
   "source": [
    "conda create -n evan biopython"
   ]
  },
  {
   "cell_type": "code",
   "execution_count": null,
   "id": "f6f2bcbc-174c-4442-a06f-0368bba736d9",
   "metadata": {},
   "outputs": [],
   "source": [
    "source activate evan"
   ]
  },
  {
   "cell_type": "markdown",
   "id": "763389b8-8ded-454b-ba3b-b12b3f955d19",
   "metadata": {},
   "source": [
    "3. **Install necessary packages**"
   ]
  },
  {
   "cell_type": "code",
   "execution_count": null,
   "id": "bdce2504-8c82-4d19-8dd4-e5595007a8ae",
   "metadata": {},
   "outputs": [],
   "source": [
    "conda install scipy matplotlib jupyter-notebook pip pandas numpy wget pyensembl gzip fpdf"
   ]
  },
  {
   "cell_type": "markdown",
   "id": "cee7b12d-c725-40a1-a258-169dd3898ff9",
   "metadata": {},
   "source": [
    "4. **Start Jupyter Notebook**\n",
    "\n",
    "Go to the home directory, and start Juputer Notebook."
   ]
  },
  {
   "cell_type": "raw",
   "id": "61da29cd-5bee-44b8-8a67-dc0d80b51ea4",
   "metadata": {},
   "source": [
    "cd ~\n",
    "\n",
    "mkdir evan\n",
    "\n",
    "cd evan\n",
    "\n",
    "mkdir name_of_animal #here replace the name\n",
    "\n",
    "cd name_of_animal\n"
   ]
  },
  {
   "cell_type": "raw",
   "id": "7ca68a3f-008d-4277-b9b7-acb179b95bfd",
   "metadata": {},
   "source": [
    "jupyter notebook &"
   ]
  },
  {
   "cell_type": "markdown",
   "id": "1d3e8293-987c-4e00-a881-241daa407a04",
   "metadata": {},
   "source": [
    "In Jupyter Notebook open this ipynb program teplate and copy it with a different name."
   ]
  },
  {
   "cell_type": "markdown",
   "id": "7e8657c2-3d73-4c31-8448-ae32ec056e2d",
   "metadata": {},
   "source": [
    "## <font color='red'>2.Configuration and download section</font>"
   ]
  },
  {
   "cell_type": "code",
   "execution_count": null,
   "id": "135a7531-3081-42af-823d-35aab662b550",
   "metadata": {},
   "outputs": [],
   "source": [
    "species = 'cottoperca_gobio' # replace with your animal"
   ]
  },
  {
   "cell_type": "code",
   "execution_count": 6,
   "id": "cd98e3af-1a96-4e4c-a332-c52c8bf8f026",
   "metadata": {},
   "outputs": [
    {
     "name": "stdout",
     "output_type": "stream",
     "text": [
      "pyensembl: /home/marta/anaconda3/envs/evan/bin/pyensembl\n"
     ]
    }
   ],
   "source": [
    "!whereis pyensembl  # here you will see the path to species.py"
   ]
  },
  {
   "cell_type": "raw",
   "id": "c06c2512-c65a-45a2-ac19-e5292a356335",
   "metadata": {},
   "source": [
    "Edit species.py in directory /home/marta/anaconda3/envs/evan/lib/python3.11/site-packages/pyensembl/\n",
    "\n",
    "add in the end something like\n",
    "\n",
    "anabas = Species.register(\n",
    "    latin_name=\"anabas_testudineus\",\n",
    "    synonyms=[\"anabas\"],\n",
    "    reference_assemblies={\n",
    "        \"fAnaTes1.1\": (94, MAX_ENSEMBL_RELEASE),\n",
    "        \"fAnaTes1.1\": (108, MAX_ENSEMBL_RELEASE)\n",
    "    })\n",
    "\n",
    "# 'cottoperca_gobio'\n",
    "# Cottoperca_gobio.fCotGob3.1.dna.nonchromosomal.fa.gz\n",
    "\n",
    "cottoperca = Species.register(\n",
    "    latin_name=\"cottoperca_gobio\",\n",
    "    synonyms=[\"cottoperca\"],\n",
    "    reference_assemblies={        \n",
    "        \"fCotGob3.1\": (108, MAX_ENSEMBL_RELEASE)\n",
    "    })"
   ]
  },
  {
   "cell_type": "markdown",
   "id": "b32d39f0-4b43-48e9-852f-f5818855e078",
   "metadata": {},
   "source": [
    "### <font color='red'>Define the cache for downloaded files</font>"
   ]
  },
  {
   "cell_type": "code",
   "execution_count": 7,
   "id": "6feab7eb-efb8-4cef-ae48-5fcaeff4f3b8",
   "metadata": {},
   "outputs": [],
   "source": [
    "!export PYENSEMBL_CACHE_DIR=~/.cache/pyensembl  # similar to this example"
   ]
  },
  {
   "cell_type": "markdown",
   "id": "e47a5d02-1e7c-49b1-b001-89aef35b46d7",
   "metadata": {},
   "source": [
    "**Define the Ensembl release you want to work with**"
   ]
  },
  {
   "cell_type": "code",
   "execution_count": 3,
   "id": "750b0792-2614-4326-8f1f-8cc36dcba169",
   "metadata": {},
   "outputs": [
    {
     "name": "stdout",
     "output_type": "stream",
     "text": [
      "2022-12-29 11:59:32,045 - pyensembl.shell - INFO - Running 'install' for EnsemblRelease(release=108, species='cottoperca_gobio')\n",
      "2022-12-29 11:59:32,045 - pyensembl.download_cache - INFO - Fetching /home/marta/.cache/pyensembl/fCotGob3.1/ensembl108/Cottoperca_gobio.fCotGob3.1.108.gtf.gz from URL https://ftp.ensembl.org/pub/release-108/gtf/cottoperca_gobio/Cottoperca_gobio.fCotGob3.1.108.gtf.gz\n",
      "2022-12-29 11:59:32,045 - datacache.download - INFO - Downloading https://ftp.ensembl.org/pub/release-108/gtf/cottoperca_gobio/Cottoperca_gobio.fCotGob3.1.108.gtf.gz to /home/marta/.cache/pyensembl/fCotGob3.1/ensembl108/Cottoperca_gobio.fCotGob3.1.108.gtf.gz\n",
      "2022-12-29 11:59:41,470 - pyensembl.download_cache - INFO - Fetching /home/marta/.cache/pyensembl/fCotGob3.1/ensembl108/Cottoperca_gobio.fCotGob3.1.cdna.all.fa.gz from URL https://ftp.ensembl.org/pub/release-108/fasta/cottoperca_gobio/cdna/Cottoperca_gobio.fCotGob3.1.cdna.all.fa.gz\n",
      "2022-12-29 11:59:41,472 - datacache.download - INFO - Downloading https://ftp.ensembl.org/pub/release-108/fasta/cottoperca_gobio/cdna/Cottoperca_gobio.fCotGob3.1.cdna.all.fa.gz to /home/marta/.cache/pyensembl/fCotGob3.1/ensembl108/Cottoperca_gobio.fCotGob3.1.cdna.all.fa.gz\n",
      "2022-12-29 11:59:55,248 - pyensembl.download_cache - INFO - Fetching /home/marta/.cache/pyensembl/fCotGob3.1/ensembl108/Cottoperca_gobio.fCotGob3.1.ncrna.fa.gz from URL https://ftp.ensembl.org/pub/release-108/fasta/cottoperca_gobio/ncrna/Cottoperca_gobio.fCotGob3.1.ncrna.fa.gz\n",
      "2022-12-29 11:59:55,249 - datacache.download - INFO - Downloading https://ftp.ensembl.org/pub/release-108/fasta/cottoperca_gobio/ncrna/Cottoperca_gobio.fCotGob3.1.ncrna.fa.gz to /home/marta/.cache/pyensembl/fCotGob3.1/ensembl108/Cottoperca_gobio.fCotGob3.1.ncrna.fa.gz\n",
      "2022-12-29 11:59:55,944 - pyensembl.download_cache - INFO - Fetching /home/marta/.cache/pyensembl/fCotGob3.1/ensembl108/Cottoperca_gobio.fCotGob3.1.pep.all.fa.gz from URL https://ftp.ensembl.org/pub/release-108/fasta/cottoperca_gobio/pep/Cottoperca_gobio.fCotGob3.1.pep.all.fa.gz\n",
      "2022-12-29 11:59:55,944 - datacache.download - INFO - Downloading https://ftp.ensembl.org/pub/release-108/fasta/cottoperca_gobio/pep/Cottoperca_gobio.fCotGob3.1.pep.all.fa.gz to /home/marta/.cache/pyensembl/fCotGob3.1/ensembl108/Cottoperca_gobio.fCotGob3.1.pep.all.fa.gz\n",
      "2022-12-29 12:00:01,532 - pyensembl.database - INFO - Creating database: /home/marta/.cache/pyensembl/fCotGob3.1/ensembl108/Cottoperca_gobio.fCotGob3.1.108.gtf.db\n",
      "2022-12-29 12:00:01,532 - pyensembl.database - INFO - Reading GTF from /home/marta/.cache/pyensembl/fCotGob3.1/ensembl108/Cottoperca_gobio.fCotGob3.1.108.gtf.gz\n",
      "2022-12-29 12:00:25,229 - pyensembl.database - INFO - Skipping database index for {ccds_id}\n",
      "2022-12-29 12:00:28,557 - datacache.database_helpers - INFO - Creating database /home/marta/.cache/pyensembl/fCotGob3.1/ensembl108/Cottoperca_gobio.fCotGob3.1.108.gtf.db containing: CDS, start_codon, transcript, exon, gene, stop_codon\n",
      "2022-12-29 12:00:28,557 - datacache.database - INFO - Running sqlite query: \"CREATE TABLE CDS (gene_id TEXT NOT NULL, gene_biotype TEXT NOT NULL, feature TEXT NOT NULL, exon_number TEXT NOT NULL, gene_name TEXT NOT NULL, exon_version TEXT NOT NULL, transcript_name TEXT NOT NULL, start INT NOT NULL, transcript_version TEXT NOT NULL, source TEXT NOT NULL, gene_version TEXT NOT NULL, protein_id TEXT NOT NULL, seqname TEXT NOT NULL, protein_version TEXT NOT NULL, exon_id TEXT NOT NULL, transcript_biotype TEXT NOT NULL, transcript_id TEXT NOT NULL, end INT NOT NULL, strand TEXT NOT NULL)\"\n",
      "2022-12-29 12:00:29,875 - datacache.database - INFO - Inserting 753162 rows into table CDS\n",
      "2022-12-29 12:00:31,464 - datacache.database - INFO - Creating index on CDS (seqname, start, end)\n",
      "2022-12-29 12:00:31,942 - datacache.database - INFO - Creating index on CDS (gene_name)\n",
      "2022-12-29 12:00:32,178 - datacache.database - INFO - Creating index on CDS (gene_id)\n",
      "2022-12-29 12:00:32,479 - datacache.database - INFO - Creating index on CDS (transcript_id)\n",
      "2022-12-29 12:00:32,812 - datacache.database - INFO - Creating index on CDS (transcript_name)\n",
      "2022-12-29 12:00:33,043 - datacache.database - INFO - Creating index on CDS (exon_id)\n",
      "2022-12-29 12:00:33,277 - datacache.database - INFO - Creating index on CDS (protein_id)\n",
      "2022-12-29 12:00:33,603 - datacache.database - INFO - Running sqlite query: \"CREATE TABLE start_codon (gene_id TEXT NOT NULL, gene_biotype TEXT NOT NULL, feature TEXT NOT NULL, exon_number TEXT NOT NULL, gene_name TEXT NOT NULL, exon_version TEXT NOT NULL, transcript_name TEXT NOT NULL, start INT NOT NULL, transcript_version TEXT NOT NULL, source TEXT NOT NULL, gene_version TEXT NOT NULL, protein_id TEXT NOT NULL, seqname TEXT NOT NULL, protein_version TEXT NOT NULL, exon_id TEXT NOT NULL, transcript_biotype TEXT NOT NULL, transcript_id TEXT NOT NULL, end INT NOT NULL, strand TEXT NOT NULL)\"\n",
      "2022-12-29 12:00:33,682 - datacache.database - INFO - Inserting 43386 rows into table start_codon\n",
      "2022-12-29 12:00:33,781 - datacache.database - INFO - Creating index on start_codon (seqname, start, end)\n",
      "2022-12-29 12:00:33,802 - datacache.database - INFO - Creating index on start_codon (gene_name)\n",
      "2022-12-29 12:00:33,812 - datacache.database - INFO - Creating index on start_codon (gene_id)\n",
      "2022-12-29 12:00:33,826 - datacache.database - INFO - Creating index on start_codon (transcript_id)\n",
      "2022-12-29 12:00:33,844 - datacache.database - INFO - Creating index on start_codon (transcript_name)\n",
      "2022-12-29 12:00:33,854 - datacache.database - INFO - Creating index on start_codon (exon_id)\n",
      "2022-12-29 12:00:33,864 - datacache.database - INFO - Creating index on start_codon (protein_id)\n",
      "2022-12-29 12:00:33,874 - datacache.database - INFO - Running sqlite query: \"CREATE TABLE transcript (gene_id TEXT NOT NULL, gene_biotype TEXT NOT NULL, feature TEXT NOT NULL, exon_number TEXT NOT NULL, gene_name TEXT NOT NULL, exon_version TEXT NOT NULL, transcript_name TEXT NOT NULL, start INT NOT NULL, transcript_version TEXT NOT NULL, source TEXT NOT NULL, gene_version TEXT NOT NULL, protein_id TEXT NOT NULL, seqname TEXT NOT NULL, protein_version TEXT NOT NULL, exon_id TEXT NOT NULL, transcript_biotype TEXT NOT NULL, transcript_id TEXT UNIQUE PRIMARY KEY NOT NULL, end INT NOT NULL, strand TEXT NOT NULL)\"\n",
      "2022-12-29 12:00:33,983 - datacache.database - INFO - Inserting 60811 rows into table transcript\n",
      "2022-12-29 12:00:34,168 - datacache.database - INFO - Creating index on transcript (seqname, start, end)\n",
      "2022-12-29 12:00:34,202 - datacache.database - INFO - Creating index on transcript (gene_name)\n",
      "2022-12-29 12:00:34,218 - datacache.database - INFO - Creating index on transcript (gene_id)\n",
      "2022-12-29 12:00:34,242 - datacache.database - INFO - Creating index on transcript (transcript_name)\n",
      "2022-12-29 12:00:34,258 - datacache.database - INFO - Creating index on transcript (exon_id)\n",
      "2022-12-29 12:00:34,272 - datacache.database - INFO - Creating index on transcript (protein_id)\n",
      "2022-12-29 12:00:34,286 - datacache.database - INFO - Running sqlite query: \"CREATE TABLE exon (gene_id TEXT NOT NULL, gene_biotype TEXT NOT NULL, feature TEXT NOT NULL, exon_number TEXT NOT NULL, gene_name TEXT NOT NULL, exon_version TEXT NOT NULL, transcript_name TEXT NOT NULL, start INT NOT NULL, transcript_version TEXT NOT NULL, source TEXT NOT NULL, gene_version TEXT NOT NULL, protein_id TEXT NOT NULL, seqname TEXT NOT NULL, protein_version TEXT NOT NULL, exon_id TEXT NOT NULL, transcript_biotype TEXT NOT NULL, transcript_id TEXT NOT NULL, end INT NOT NULL, strand TEXT NOT NULL)\"\n",
      "2022-12-29 12:00:35,614 - datacache.database - INFO - Inserting 773175 rows into table exon\n",
      "2022-12-29 12:00:37,583 - datacache.database - INFO - Creating index on exon (seqname, start, end)\n",
      "2022-12-29 12:00:38,069 - datacache.database - INFO - Creating index on exon (gene_name)\n",
      "2022-12-29 12:00:38,325 - datacache.database - INFO - Creating index on exon (gene_id)\n",
      "2022-12-29 12:00:38,632 - datacache.database - INFO - Creating index on exon (transcript_id)\n",
      "2022-12-29 12:00:38,971 - datacache.database - INFO - Creating index on exon (transcript_name)\n",
      "2022-12-29 12:00:39,227 - datacache.database - INFO - Creating index on exon (exon_id)\n",
      "2022-12-29 12:00:39,594 - datacache.database - INFO - Creating index on exon (protein_id)\n",
      "2022-12-29 12:00:39,832 - datacache.database - INFO - Running sqlite query: \"CREATE TABLE gene (gene_id TEXT UNIQUE PRIMARY KEY NOT NULL, gene_biotype TEXT NOT NULL, feature TEXT NOT NULL, exon_number TEXT NOT NULL, gene_name TEXT NOT NULL, exon_version TEXT NOT NULL, transcript_name TEXT NOT NULL, start INT NOT NULL, transcript_version TEXT NOT NULL, source TEXT NOT NULL, gene_version TEXT NOT NULL, protein_id TEXT NOT NULL, seqname TEXT NOT NULL, protein_version TEXT NOT NULL, exon_id TEXT NOT NULL, transcript_biotype TEXT NOT NULL, transcript_id TEXT NOT NULL, end INT NOT NULL, strand TEXT NOT NULL)\"\n",
      "2022-12-29 12:00:39,870 - datacache.database - INFO - Inserting 24764 rows into table gene\n",
      "2022-12-29 12:00:39,966 - datacache.database - INFO - Creating index on gene (seqname, start, end)\n",
      "2022-12-29 12:00:39,977 - datacache.database - INFO - Creating index on gene (gene_name)\n",
      "2022-12-29 12:00:39,983 - datacache.database - INFO - Creating index on gene (transcript_id)\n",
      "2022-12-29 12:00:39,988 - datacache.database - INFO - Creating index on gene (transcript_name)\n",
      "2022-12-29 12:00:39,994 - datacache.database - INFO - Creating index on gene (exon_id)\n",
      "2022-12-29 12:00:39,999 - datacache.database - INFO - Creating index on gene (protein_id)\n",
      "2022-12-29 12:00:40,005 - datacache.database - INFO - Running sqlite query: \"CREATE TABLE stop_codon (gene_id TEXT NOT NULL, gene_biotype TEXT NOT NULL, feature TEXT NOT NULL, exon_number TEXT NOT NULL, gene_name TEXT NOT NULL, exon_version TEXT NOT NULL, transcript_name TEXT NOT NULL, start INT NOT NULL, transcript_version TEXT NOT NULL, source TEXT NOT NULL, gene_version TEXT NOT NULL, protein_id TEXT NOT NULL, seqname TEXT NOT NULL, protein_version TEXT NOT NULL, exon_id TEXT NOT NULL, transcript_biotype TEXT NOT NULL, transcript_id TEXT NOT NULL, end INT NOT NULL, strand TEXT NOT NULL)\"\n",
      "2022-12-29 12:00:40,108 - datacache.database - INFO - Inserting 56878 rows into table stop_codon\n",
      "2022-12-29 12:00:40,291 - datacache.database - INFO - Creating index on stop_codon (seqname, start, end)\n",
      "2022-12-29 12:00:40,323 - datacache.database - INFO - Creating index on stop_codon (gene_name)\n",
      "2022-12-29 12:00:40,337 - datacache.database - INFO - Creating index on stop_codon (gene_id)\n",
      "2022-12-29 12:00:40,359 - datacache.database - INFO - Creating index on stop_codon (transcript_id)\n",
      "2022-12-29 12:00:40,384 - datacache.database - INFO - Creating index on stop_codon (transcript_name)\n",
      "2022-12-29 12:00:40,398 - datacache.database - INFO - Creating index on stop_codon (exon_id)\n",
      "2022-12-29 12:00:40,411 - datacache.database - INFO - Creating index on stop_codon (protein_id)\n",
      "2022-12-29 12:00:40,425 - datacache.database - INFO - Running sqlite query: \"CREATE TABLE _datacache_metadata (version INT)\"\n",
      "2022-12-29 12:00:40,425 - datacache.database - INFO - Running sqlite query: \"INSERT INTO _datacache_metadata VALUES (3)\"\n",
      "2022-12-29 12:00:41,185 - pyensembl.sequence_data - INFO - Parsing sequences from FASTA file at /home/marta/.cache/pyensembl/fCotGob3.1/ensembl108/Cottoperca_gobio.fCotGob3.1.cdna.all.fa.gz\n",
      "2022-12-29 12:00:43,018 - pyensembl.sequence_data - INFO - Saving sequence dictionary to /home/marta/.cache/pyensembl/fCotGob3.1/ensembl108/Cottoperca_gobio.fCotGob3.1.cdna.all.fa.gz.pickle\n",
      "2022-12-29 12:00:43,215 - pyensembl.sequence_data - INFO - Parsing sequences from FASTA file at /home/marta/.cache/pyensembl/fCotGob3.1/ensembl108/Cottoperca_gobio.fCotGob3.1.ncrna.fa.gz\n",
      "2022-12-29 12:00:43,269 - pyensembl.sequence_data - INFO - Saving sequence dictionary to /home/marta/.cache/pyensembl/fCotGob3.1/ensembl108/Cottoperca_gobio.fCotGob3.1.ncrna.fa.gz.pickle\n",
      "2022-12-29 12:00:43,273 - pyensembl.sequence_data - INFO - Parsing sequences from FASTA file at /home/marta/.cache/pyensembl/fCotGob3.1/ensembl108/Cottoperca_gobio.fCotGob3.1.pep.all.fa.gz\n",
      "2022-12-29 12:00:43,903 - pyensembl.sequence_data - INFO - Saving sequence dictionary to /home/marta/.cache/pyensembl/fCotGob3.1/ensembl108/Cottoperca_gobio.fCotGob3.1.pep.all.fa.gz.pickle\n"
     ]
    }
   ],
   "source": [
    "!pyensembl install --release 108  --species cottoperca_gobio # replace the release and animal name"
   ]
  },
  {
   "cell_type": "markdown",
   "id": "f8578317-90c5-4b1f-9688-77c06788907f",
   "metadata": {},
   "source": [
    "Look at the .cache anf if not all required files are downloaded, you can do it manually with **wget**"
   ]
  },
  {
   "cell_type": "code",
   "execution_count": 7,
   "id": "9674dae8-2f95-428d-ad3a-bc68435e519b",
   "metadata": {},
   "outputs": [],
   "source": [
    "import wget"
   ]
  },
  {
   "cell_type": "code",
   "execution_count": 8,
   "id": "eb422aba-a017-4a3b-b7ad-1455efd7342b",
   "metadata": {},
   "outputs": [
    {
     "name": "stdout",
     "output_type": "stream",
     "text": [
      "100% [..................................................] 190075345 / 190075345"
     ]
    },
    {
     "data": {
      "text/plain": [
       "'Cottoperca_gobio.fCotGob3.1.dna_sm.toplevel.fa.gz'"
      ]
     },
     "execution_count": 8,
     "metadata": {},
     "output_type": "execute_result"
    }
   ],
   "source": [
    "wget.download('https://ftp.ensembl.org/pub/release-108/fasta/cottoperca_gobio/dna/Cottoperca_gobio.fCotGob3.1.dna_sm.toplevel.fa.gz') # replace the path and animal name"
   ]
  },
  {
   "cell_type": "markdown",
   "id": "187346f4-f636-4b14-9949-3fb7b82b3611",
   "metadata": {},
   "source": [
    "Verify if you are in the directory with the animal e.g. in this case \"cottoperca_gobio\""
   ]
  },
  {
   "cell_type": "code",
   "execution_count": 10,
   "id": "d5cb7407-deb6-406b-8950-b63f33af355b",
   "metadata": {},
   "outputs": [
    {
     "name": "stdout",
     "output_type": "stream",
     "text": [
      "/home/marta/radka_anabas/cottoperca_gobio\n"
     ]
    }
   ],
   "source": [
    "!pwd"
   ]
  },
  {
   "cell_type": "markdown",
   "id": "3d018d5b-d3ff-47c6-9ea0-f66cff4f34de",
   "metadata": {},
   "source": [
    "This file you must unzip it - see the example."
   ]
  },
  {
   "cell_type": "code",
   "execution_count": 11,
   "id": "3fa71542-ef31-47c4-bfcd-c0a1efb2b0de",
   "metadata": {},
   "outputs": [],
   "source": [
    "!gzip -d /home/marta/.cache/pyensembl/fCotGob3.1/ensembl108/Cottoperca_gobio/fCotGob3.1.dna_sm.toplevel.fa.gz  # replace the path"
   ]
  },
  {
   "cell_type": "markdown",
   "id": "00c25676-eb68-4857-9b34-e52846f0b88a",
   "metadata": {},
   "source": [
    "where = '/home/marta/.cache/pyensembl/fCotGob3.1/ensembl108/'"
   ]
  },
  {
   "cell_type": "markdown",
   "id": "3fd808a9-48a5-41f8-8ccd-29e10921c5e2",
   "metadata": {},
   "source": [
    "## <font color='red'>3.Import section</font>"
   ]
  },
  {
   "cell_type": "code",
   "execution_count": null,
   "id": "9af63cbb-d6c7-4873-ba62-12b4cd177f43",
   "metadata": {},
   "outputs": [],
   "source": [
    "import pyensembl\n",
    "\n",
    "from Bio import SeqIO\n",
    "from Bio.SeqUtils import gc_fraction, GC_skew\n",
    "import matplotlib.pyplot as plt\n",
    "import pandas as pd\n",
    "import numpy as np"
   ]
  },
  {
   "cell_type": "code",
   "execution_count": 13,
   "id": "e29da633-fa26-4191-bb4c-825d005edae2",
   "metadata": {},
   "outputs": [],
   "source": [
    "files_108=!ls /home/marta/.cache/pyensembl/fCotGob3.1/ensembl108/  # change the path of your own"
   ]
  },
  {
   "cell_type": "code",
   "execution_count": 14,
   "id": "8892bacd-608b-4d0d-bed4-9447b780cf03",
   "metadata": {},
   "outputs": [
    {
     "data": {
      "text/plain": [
       "['Cottoperca_gobio.fCotGob3.1.108.gtf.db',\n",
       " 'Cottoperca_gobio.fCotGob3.1.108.gtf.gz',\n",
       " 'Cottoperca_gobio.fCotGob3.1.cdna.all.fa.gz',\n",
       " 'Cottoperca_gobio.fCotGob3.1.cdna.all.fa.gz.pickle',\n",
       " 'Cottoperca_gobio.fCotGob3.1.dna_sm.toplevel.fa',\n",
       " 'Cottoperca_gobio.fCotGob3.1.ncrna.fa.gz',\n",
       " 'Cottoperca_gobio.fCotGob3.1.ncrna.fa.gz.pickle',\n",
       " 'Cottoperca_gobio.fCotGob3.1.pep.all.fa.gz',\n",
       " 'Cottoperca_gobio.fCotGob3.1.pep.all.fa.gz.pickle']"
      ]
     },
     "execution_count": 14,
     "metadata": {},
     "output_type": "execute_result"
    }
   ],
   "source": [
    "files_108  "
   ]
  },
  {
   "cell_type": "markdown",
   "id": "8eb894e3-2674-47a0-a754-9cd8a97b0fdb",
   "metadata": {},
   "source": [
    "Choose what file you will work with / e.g. file_108[4] if the file is 'Cottoperca_gobio.fCotGob3.1.dna_sm.toplevel.fa'"
   ]
  },
  {
   "cell_type": "markdown",
   "id": "b47c6b5d-75df-4646-88a9-b98aaecc75d7",
   "metadata": {},
   "source": [
    "# DNA only relese ..... - pandas table"
   ]
  },
  {
   "cell_type": "code",
   "execution_count": 16,
   "id": "d08988d2-c43c-4ac4-aeac-444d7d81694d",
   "metadata": {},
   "outputs": [],
   "source": [
    "window = 1000  # sliding windows - you can change the window size"
   ]
  },
  {
   "cell_type": "markdown",
   "id": "8841c1f3-83d8-42b4-b1ae-e8df991814a8",
   "metadata": {},
   "source": [
    "## GC DNA release ....."
   ]
  },
  {
   "cell_type": "code",
   "execution_count": 19,
   "id": "0e1805a1-ea88-4474-943d-5b59fdeb3481",
   "metadata": {},
   "outputs": [
    {
     "name": "stdout",
     "output_type": "stream",
     "text": [
      "1\n",
      "2\n",
      "3\n",
      "4\n",
      "5\n",
      "6\n",
      "7\n",
      "8\n",
      "9\n",
      "10\n",
      "11\n",
      "12\n",
      "13\n",
      "14\n",
      "15\n",
      "16\n",
      "17\n",
      "18\n",
      "19\n",
      "20\n",
      "21\n",
      "22\n",
      "23\n",
      "24\n",
      "CAAAFJ010000140.1\n",
      "CAAAFJ010000280.1\n",
      "CAAAFJ010000226.1\n",
      "CAAAFJ010000282.1\n",
      "CAAAFJ010000014.1\n",
      "CAAAFJ010000059.1\n",
      "CAAAFJ010000089.1\n",
      "CAAAFJ010000086.1\n",
      "CAAAFJ010000035.1\n",
      "CAAAFJ010000158.1\n",
      "CAAAFJ010000052.1\n",
      "CAAAFJ010000083.1\n",
      "CAAAFJ010000032.1\n",
      "CAAAFJ010000003.1\n",
      "CAAAFJ010000108.1\n",
      "CAAAFJ010000122.1\n",
      "CAAAFJ010000079.1\n",
      "CAAAFJ010000143.1\n",
      "CAAAFJ010000211.1\n",
      "CAAAFJ010000130.1\n",
      "CAAAFJ010000256.1\n",
      "CAAAFJ010000054.1\n",
      "CAAAFJ010000029.1\n",
      "CAAAFJ010000049.1\n",
      "CAAAFJ010000073.1\n",
      "CAAAFJ010000056.1\n",
      "CAAAFJ010000120.1\n",
      "CAAAFJ010000094.1\n",
      "CAAAFJ010000096.1\n",
      "CAAAFJ010000193.1\n",
      "CAAAFJ010000042.1\n",
      "CAAAFJ010000206.1\n",
      "CAAAFJ010000016.1\n",
      "CAAAFJ010000114.1\n",
      "CAAAFJ010000144.1\n",
      "CAAAFJ010000087.1\n",
      "CAAAFJ010000041.1\n",
      "CAAAFJ010000075.1\n",
      "CAAAFJ010000150.1\n",
      "CAAAFJ010000133.1\n",
      "CAAAFJ010000039.1\n",
      "CAAAFJ010000116.1\n",
      "CAAAFJ010000132.1\n",
      "CAAAFJ010000139.1\n",
      "CAAAFJ010000146.1\n",
      "CAAAFJ010000110.1\n",
      "CAAAFJ010000067.1\n",
      "CAAAFJ010000154.1\n",
      "CAAAFJ010000145.1\n",
      "CAAAFJ010000080.1\n",
      "CAAAFJ010000115.1\n",
      "CAAAFJ010000191.1\n",
      "CAAAFJ010000125.1\n",
      "CAAAFJ010000194.1\n",
      "CAAAFJ010000070.1\n",
      "CAAAFJ010000027.1\n",
      "CAAAFJ010000181.1\n",
      "CAAAFJ010000217.1\n",
      "CAAAFJ010000121.1\n",
      "CAAAFJ010000149.1\n",
      "CAAAFJ010000098.1\n",
      "CAAAFJ010000157.1\n",
      "CAAAFJ010000141.1\n",
      "CAAAFJ010000088.1\n",
      "CAAAFJ010000201.1\n",
      "CAAAFJ010000160.1\n",
      "CAAAFJ010000111.1\n",
      "CAAAFJ010000155.1\n",
      "CAAAFJ010000142.1\n",
      "CAAAFJ010000151.1\n",
      "CAAAFJ010000097.1\n",
      "CAAAFJ010000153.1\n",
      "CAAAFJ010000112.1\n",
      "CAAAFJ010000065.1\n",
      "CAAAFJ010000123.1\n",
      "CAAAFJ010000209.1\n",
      "CAAAFJ010000018.1\n",
      "CAAAFJ010000162.1\n",
      "CAAAFJ010000092.1\n",
      "CAAAFJ010000221.1\n",
      "CAAAFJ010000171.1\n",
      "CAAAFJ010000243.1\n",
      "CAAAFJ010000074.1\n",
      "CAAAFJ010000187.1\n",
      "CAAAFJ010000117.1\n",
      "CAAAFJ010000237.1\n",
      "CAAAFJ010000124.1\n",
      "CAAAFJ010000147.1\n",
      "CAAAFJ010000119.1\n",
      "CAAAFJ010000128.1\n",
      "CAAAFJ010000131.1\n",
      "CAAAFJ010000113.1\n",
      "CAAAFJ010000296.1\n",
      "CAAAFJ010000137.1\n",
      "CAAAFJ010000216.1\n",
      "CAAAFJ010000295.1\n",
      "CAAAFJ010000135.1\n",
      "CAAAFJ010000170.1\n",
      "CAAAFJ010000134.1\n",
      "CAAAFJ010000258.1\n",
      "CAAAFJ010000289.1\n",
      "CAAAFJ010000186.1\n",
      "CAAAFJ010000196.1\n",
      "CAAAFJ010000176.1\n",
      "CAAAFJ010000127.1\n",
      "CAAAFJ010000180.1\n",
      "CAAAFJ010000200.1\n",
      "CAAAFJ010000179.1\n",
      "CAAAFJ010000161.1\n",
      "CAAAFJ010000189.1\n",
      "CAAAFJ010000183.1\n",
      "CAAAFJ010000138.1\n",
      "CAAAFJ010000167.1\n",
      "CAAAFJ010000163.1\n",
      "CAAAFJ010000159.1\n",
      "CAAAFJ010000136.1\n",
      "CAAAFJ010000037.1\n",
      "CAAAFJ010000174.1\n",
      "CAAAFJ010000118.1\n",
      "CAAAFJ010000190.1\n",
      "CAAAFJ010000197.1\n",
      "CAAAFJ010000248.1\n",
      "CAAAFJ010000290.1\n",
      "CAAAFJ010000024.1\n",
      "CAAAFJ010000178.1\n",
      "CAAAFJ010000126.1\n",
      "CAAAFJ010000195.1\n",
      "CAAAFJ010000287.1\n",
      "CAAAFJ010000175.1\n",
      "CAAAFJ010000213.1\n",
      "CAAAFJ010000192.1\n",
      "CAAAFJ010000188.1\n",
      "CAAAFJ010000172.1\n",
      "CAAAFJ010000218.1\n",
      "CAAAFJ010000173.1\n",
      "CAAAFJ010000168.1\n",
      "CAAAFJ010000102.1\n",
      "CAAAFJ010000245.1\n",
      "CAAAFJ010000219.1\n",
      "CAAAFJ010000294.1\n",
      "CAAAFJ010000103.1\n",
      "CAAAFJ010000292.1\n",
      "CAAAFJ010000169.1\n",
      "CAAAFJ010000276.1\n",
      "CAAAFJ010000105.1\n",
      "CAAAFJ010000265.1\n",
      "CAAAFJ010000177.1\n",
      "CAAAFJ010000214.1\n",
      "CAAAFJ010000129.1\n",
      "CAAAFJ010000051.1\n",
      "CAAAFJ010000264.1\n",
      "CAAAFJ010000099.1\n",
      "CAAAFJ010000025.1\n",
      "CAAAFJ010000242.1\n",
      "CAAAFJ010000072.1\n",
      "CAAAFJ010000184.1\n",
      "CAAAFJ010000205.1\n",
      "CAAAFJ010000156.1\n",
      "CAAAFJ010000274.1\n",
      "CAAAFJ010000057.1\n",
      "CAAAFJ010000044.1\n",
      "CAAAFJ010000207.1\n",
      "CAAAFJ010000090.1\n",
      "CAAAFJ010000006.1\n",
      "CAAAFJ010000222.1\n",
      "CAAAFJ010000244.1\n",
      "CAAAFJ010000267.1\n",
      "CAAAFJ010000152.1\n",
      "CAAAFJ010000283.1\n",
      "CAAAFJ010000109.1\n",
      "CAAAFJ010000062.1\n",
      "CAAAFJ010000095.1\n",
      "CAAAFJ010000063.1\n",
      "CAAAFJ010000257.1\n",
      "CAAAFJ010000082.1\n",
      "CAAAFJ010000017.1\n",
      "CAAAFJ010000269.1\n",
      "CAAAFJ010000199.1\n",
      "CAAAFJ010000013.1\n",
      "CAAAFJ010000015.1\n",
      "CAAAFJ010000020.1\n",
      "CAAAFJ010000249.1\n",
      "CAAAFJ010000291.1\n",
      "CAAAFJ010000071.1\n",
      "CAAAFJ010000212.1\n",
      "CAAAFJ010000229.1\n",
      "CAAAFJ010000208.1\n",
      "CAAAFJ010000026.1\n",
      "CAAAFJ010000008.1\n",
      "CAAAFJ010000053.1\n",
      "CAAAFJ010000069.1\n",
      "CAAAFJ010000007.1\n",
      "CAAAFJ010000227.1\n",
      "CAAAFJ010000066.1\n",
      "CAAAFJ010000225.1\n",
      "CAAAFJ010000004.1\n",
      "CAAAFJ010000275.1\n",
      "CAAAFJ010000286.1\n",
      "CAAAFJ010000064.1\n",
      "CAAAFJ010000040.1\n",
      "CAAAFJ010000278.1\n",
      "CAAAFJ010000273.1\n",
      "CAAAFJ010000022.1\n",
      "CAAAFJ010000263.1\n",
      "CAAAFJ010000255.1\n",
      "CAAAFJ010000033.1\n",
      "CAAAFJ010000036.1\n",
      "CAAAFJ010000272.1\n",
      "CAAAFJ010000021.1\n",
      "CAAAFJ010000085.1\n",
      "CAAAFJ010000223.1\n",
      "CAAAFJ010000148.1\n",
      "CAAAFJ010000182.1\n",
      "CAAAFJ010000107.1\n",
      "CAAAFJ010000060.1\n",
      "CAAAFJ010000076.1\n",
      "CAAAFJ010000260.1\n",
      "CAAAFJ010000001.1\n",
      "CAAAFJ010000185.1\n",
      "CAAAFJ010000238.1\n",
      "CAAAFJ010000254.1\n",
      "CAAAFJ010000241.1\n",
      "CAAAFJ010000047.1\n",
      "CAAAFJ010000081.1\n",
      "CAAAFJ010000230.1\n",
      "CAAAFJ010000010.1\n",
      "CAAAFJ010000043.1\n",
      "CAAAFJ010000202.1\n",
      "CAAAFJ010000050.1\n",
      "CAAAFJ010000028.1\n",
      "CAAAFJ010000285.1\n",
      "CAAAFJ010000011.1\n",
      "CAAAFJ010000228.1\n",
      "CAAAFJ010000297.1\n",
      "CAAAFJ010000019.1\n",
      "CAAAFJ010000246.1\n",
      "CAAAFJ010000259.1\n",
      "CAAAFJ010000284.1\n",
      "CAAAFJ010000012.1\n",
      "CAAAFJ010000101.1\n",
      "CAAAFJ010000250.1\n",
      "CAAAFJ010000234.1\n",
      "CAAAFJ010000224.1\n",
      "CAAAFJ010000233.1\n",
      "CAAAFJ010000271.1\n",
      "CAAAFJ010000166.1\n",
      "CAAAFJ010000048.1\n",
      "CAAAFJ010000100.1\n",
      "CAAAFJ010000045.1\n",
      "CAAAFJ010000253.1\n",
      "CAAAFJ010000240.1\n",
      "CAAAFJ010000093.1\n",
      "CAAAFJ010000030.1\n",
      "CAAAFJ010000055.1\n",
      "CAAAFJ010000270.1\n",
      "CAAAFJ010000288.1\n",
      "CAAAFJ010000231.1\n",
      "CAAAFJ010000204.1\n",
      "CAAAFJ010000277.1\n",
      "CAAAFJ010000281.1\n",
      "CAAAFJ010000235.1\n",
      "CAAAFJ010000078.1\n",
      "CAAAFJ010000293.1\n",
      "CAAAFJ010000104.1\n",
      "CAAAFJ010000005.1\n",
      "CAAAFJ010000239.1\n",
      "CAAAFJ010000252.1\n",
      "CAAAFJ010000106.1\n",
      "CAAAFJ010000236.1\n",
      "CAAAFJ010000261.1\n",
      "CAAAFJ010000091.1\n",
      "CAAAFJ010000232.1\n",
      "CAAAFJ010000034.1\n",
      "CAAAFJ010000268.1\n",
      "CAAAFJ010000298.1\n",
      "CAAAFJ010000031.1\n",
      "CAAAFJ010000164.1\n",
      "CAAAFJ010000262.1\n",
      "CAAAFJ010000247.1\n",
      "CAAAFJ010000046.1\n",
      "CAAAFJ010000068.1\n",
      "CAAAFJ010000077.1\n",
      "CAAAFJ010000038.1\n",
      "CAAAFJ010000058.1\n",
      "CAAAFJ010000203.1\n",
      "CAAAFJ010000061.1\n",
      "CAAAFJ010000198.1\n",
      "CAAAFJ010000002.1\n",
      "CAAAFJ010000251.1\n",
      "CAAAFJ010000023.1\n",
      "CAAAFJ010000165.1\n",
      "CAAAFJ010000215.1\n",
      "CAAAFJ010000084.1\n",
      "CAAAFJ010000279.1\n",
      "CAAAFJ010000210.1\n",
      "CAAAFJ010000009.1\n",
      "CAAAFJ010000266.1\n",
      "CAAAFJ010000220.1\n"
     ]
    }
   ],
   "source": [
    "sec_values_108 = '' # replace with your release number\n",
    "c=[]\n",
    "for rec in SeqIO.parse(f\"{where}\"+files_108[4], \"fasta\"):\n",
    "    \n",
    "    c.append(rec.id)\n",
    "    sec_values_108 += rec.seq\n",
    "    \n",
    "gc_values_108 = tuple(gc_fraction(sec_values_108[i:i+window]) for i in range(0,len(sec_values_108),window)) # replace with your release number\n",
    "\n",
    "columns_dna_108 = ['GC DNA release 108'] # replace with your release number\n",
    "\n",
    "gc_df_dna_108 = pd.DataFrame(gc_values_108, columns = columns_dna_108) # replace with your release number"
   ]
  },
  {
   "cell_type": "code",
   "execution_count": 20,
   "id": "87e4b4bc-951d-4f82-b0a2-884cccd88345",
   "metadata": {},
   "outputs": [
    {
     "data": {
      "text/plain": [
       "609392"
      ]
     },
     "execution_count": 20,
     "metadata": {},
     "output_type": "execute_result"
    }
   ],
   "source": []
  },
  {
   "cell_type": "markdown",
   "id": "46d7ba76-ca95-4bd4-b787-00f846c54bb4",
   "metadata": {},
   "source": [
    "## GC soft and (small) and unmasked (capital) repetitions"
   ]
  },
  {
   "cell_type": "markdown",
   "id": "a51143da-b3dc-4999-bd0c-5c66cb65dad1",
   "metadata": {},
   "source": [
    "## GC DNA release ....."
   ]
  },
  {
   "cell_type": "code",
   "execution_count": 21,
   "id": "14f725af-5b41-44d0-bd00-bd25a068f189",
   "metadata": {},
   "outputs": [],
   "source": [
    "GC_scafolds_108={}\n",
    "for rec in SeqIO.parse(\"/home/marta/.cache/pyensembl/fCotGob3.1/ensembl108/\"+files_108[4], \"fasta\"):  # replace the path\n",
    "    if not rec.id.startswith('CA'):  # here put the begin of the scafolds - to gain only chromosomes\n",
    "        soft_mask=sum(1 for i in rec.seq if i in 'acgt')\n",
    "        ALL_all=sum(1 for i in rec.seq if i in 'acgtACGT')\n",
    "        GC_fraction=gc_fraction(rec.seq)\n",
    "    \n",
    "        GC_scafolds_108[rec.id]=(GC_fraction,soft_mask/ALL_all)  # we distract N and n   \n"
   ]
  },
  {
   "cell_type": "code",
   "execution_count": 22,
   "id": "8f7457bf-16ba-4a11-9728-d8fbb66730d7",
   "metadata": {},
   "outputs": [
    {
     "data": {
      "text/plain": [
       "{'1': (0.40814745909188405, 0.17440378326633393),\n",
       " '2': (0.41938191102427813, 0.18024962740993744),\n",
       " '3': (0.4032972952361542, 0.1537007277720803),\n",
       " '4': (0.4064355195179001, 0.16729886597141377),\n",
       " '5': (0.40771028056836156, 0.18034140153997397),\n",
       " '6': (0.4092075763725821, 0.16868645101899657),\n",
       " '7': (0.40999156577005563, 0.15450076047047542),\n",
       " '8': (0.4115169054844562, 0.17200722014657274),\n",
       " '9': (0.40867709843459904, 0.1666861849883061),\n",
       " '10': (0.40778491354275276, 0.17446868825940207),\n",
       " '11': (0.4079062285611757, 0.16067698667209926),\n",
       " '12': (0.40598729214636164, 0.17566199710051028),\n",
       " '13': (0.40909998285626287, 0.1750210664566801),\n",
       " '14': (0.40489221966870464, 0.17078008966428682),\n",
       " '15': (0.409567413127844, 0.1616261429115718),\n",
       " '16': (0.40960814643715465, 0.1616937024780161),\n",
       " '17': (0.4080977423537412, 0.17158274561064024),\n",
       " '18': (0.41717795227880733, 0.16238750679625308),\n",
       " '19': (0.4116962929985457, 0.16647170628914018),\n",
       " '20': (0.41443687295086556, 0.1432771457382805),\n",
       " '21': (0.40558444142770966, 0.15142028127868343),\n",
       " '22': (0.41253309579159136, 0.16841521079242047),\n",
       " '23': (0.41754265112409306, 0.1597707466135346),\n",
       " '24': (0.41086758349515057, 0.18739326314781485)}"
      ]
     },
     "execution_count": 22,
     "metadata": {},
     "output_type": "execute_result"
    }
   ],
   "source": [
    "GC_scafolds_108 # replace with your release number"
   ]
  },
  {
   "cell_type": "code",
   "execution_count": null,
   "id": "52375735-9c91-4ecc-b0a6-e07cd0da8dd5",
   "metadata": {},
   "outputs": [],
   "source": [
    "import csv\n",
    "with open('release_108_profile_soft_unmask_all_cottoperca.csv','w') as f:  # name csv file as you wish \n",
    "    w = csv.writer(f)\n",
    "    w.writerows(GC_scafolds_108.items())"
   ]
  },
  {
   "cell_type": "markdown",
   "id": "324090d9-3f3e-45e3-8370-5829704c14d7",
   "metadata": {},
   "source": [
    "## Graph scatter - color by value"
   ]
  },
  {
   "cell_type": "code",
   "execution_count": null,
   "id": "7dd0cb71-913b-41ae-858d-ad8c0e3882ce",
   "metadata": {},
   "outputs": [],
   "source": [
    "fig = plt.figure(figsize=(15,10))\n",
    "ax1 = fig.add_subplot(111)\n",
    "ax1.set_facecolor(\"lightgrey\")       \n",
    "#print(range(i,i+window),len(gc_values_94[i:i+window]))\n",
    "        \n",
    "names = list(GC_scafolds_108.keys())\n",
    "v = list(GC_scafolds_108.values())\n",
    "v1=[i[0] for i in v]\n",
    "v2=[i[1] for i in v]\n",
    "\n",
    "sc=ax1.scatter(names,v1, s=150, c=v2, cmap='RdYlGn', marker=\"o\", ) # only GC fraction in y axe, only chromosomes\n",
    "plt.grid(True)\n",
    "plt.title('GC mean values of Cottoperca Gobio release 108')  # Replace the animal name\n",
    "plt.ylabel('GC fraction')\n",
    "plt.xlabel('Chromosomes')\n",
    "plt.xticks(rotation = 45)\n",
    "plt.colorbar(sc,label=\"Red 0% soft-masked to green 100% soft-masked\", orientation=\"horizontal\")\n",
    "plt.savefig('release_108_profile_soft_unmask_per_chromosomes_cottoperca_gobio.png')  # Replace the animal name\n",
    "plt.show()"
   ]
  },
  {
   "cell_type": "code",
   "execution_count": null,
   "id": "8eb07472-5af0-479b-bbdd-ee0425d5bf9b",
   "metadata": {},
   "outputs": [],
   "source": []
  },
  {
   "cell_type": "markdown",
   "id": "4c79f0cd-5a8e-48e7-8209-8ce80b3370ef",
   "metadata": {},
   "source": [
    "## Relations between release ..... and .... - whole sequence"
   ]
  },
  {
   "cell_type": "markdown",
   "id": "e50a8f81-7629-4508-9dd3-0f0c56126441",
   "metadata": {},
   "source": [
    "### GC DNA release 94"
   ]
  },
  {
   "cell_type": "markdown",
   "id": "9ac298af-59c3-4fe4-b6c6-985bbb220475",
   "metadata": {},
   "source": [
    "Replace the path with your"
   ]
  },
  {
   "cell_type": "raw",
   "id": "51f5611a-b912-4f62-b52d-33df8b83f49c",
   "metadata": {},
   "source": [
    "sec_values_94 = ''\n",
    "c=[]\n",
    "for rec in SeqIO.parse(\"/home/marta/.cache/pyensembl/fCotGob3.1/ensembl108/\"+files_108[4]\"+files_94[4], \"fasta\"):  # replace the path\n",
    "    sec_values_94 += rec.seq\n",
    "\n",
    "gc_94_all = gc_fraction(sec_values_94)\n"
   ]
  },
  {
   "cell_type": "markdown",
   "id": "689c6ed9-5a66-4404-89b9-f093906f7f4d",
   "metadata": {},
   "source": [
    "### GC DNA release 108"
   ]
  },
  {
   "cell_type": "code",
   "execution_count": 25,
   "id": "6d8c52bd-782c-4528-a337-60a7f4a0668a",
   "metadata": {},
   "outputs": [],
   "source": [
    "sec_values_108 = ''\n",
    "c=[]\n",
    "for rec in SeqIO.parse(\"/home/marta/.cache/pyensembl/fCotGob3.1/ensembl108/\"+files_108[4], \"fasta\"): # replace the path\n",
    "    sec_values_108 += rec.seq\n",
    "    \n",
    "gc_108_all = gc_fraction(sec_values_108)"
   ]
  },
  {
   "cell_type": "markdown",
   "id": "a61974f8-09d7-4182-bbb2-3dc494c7c9d8",
   "metadata": {},
   "source": [
    "## Results - %GC rel.94 / %GC rel.108 (not here)\n",
    "\n",
    "## Results - here %GC rel.108 only"
   ]
  },
  {
   "cell_type": "code",
   "execution_count": 26,
   "id": "8d030493-1c2d-4bcb-814c-020e41f297c4",
   "metadata": {},
   "outputs": [
    {
     "name": "stdout",
     "output_type": "stream",
     "text": [
      "%GC release 108 is 0.4095916657032159\n"
     ]
    }
   ],
   "source": [
    "#print(f'%GC release 94 is {gc_94_all}, %GC release 108 is {gc_108_all}, %GC rel.94 / %GC rel 108 is {gc_94_all/gc_108_all}')\n",
    "print(f'%GC release 108 is {gc_108_all}')"
   ]
  },
  {
   "cell_type": "markdown",
   "id": "04d48227-c9a5-4309-bfa0-6ac23f3dfcca",
   "metadata": {},
   "source": [
    "### Soft vs Unmasked"
   ]
  },
  {
   "cell_type": "code",
   "execution_count": 27,
   "id": "11c8e119-6d93-43de-b8f2-3906cf5abf6a",
   "metadata": {},
   "outputs": [],
   "source": [
    "GC_all={}\n",
    "\n",
    "'''\n",
    "soft_mask=sum(1 for i in sec_values_94 if i in 'acgt')\n",
    "ALL_all=sum(1 for i in sec_values_94 if i in 'acgtACGT')\n",
    "GC_fraction=gc_fraction(sec_values_94)\n",
    "GC_all['94']=(GC_fraction,soft_mask/ALL_all)  # distract N and n   \n",
    "'''\n",
    "\n",
    "soft_mask=sum(1 for i in sec_values_108 if i in 'acgt')\n",
    "ALL_all=sum(1 for i in sec_values_108 if i in 'acgtACGT')\n",
    "GC_fraction=gc_fraction(sec_values_108)\n",
    "GC_all['108']=(GC_fraction,soft_mask/ALL_all)  # distract N and n , replace release no."
   ]
  },
  {
   "cell_type": "code",
   "execution_count": 28,
   "id": "7073345a-9788-4e8d-9a7f-595005836e57",
   "metadata": {},
   "outputs": [
    {
     "data": {
      "text/plain": [
       "dict_items([('108', (0.4095916657032159, 0.18145332470541564))])"
      ]
     },
     "execution_count": 28,
     "metadata": {},
     "output_type": "execute_result"
    }
   ],
   "source": [
    "GC_all.items()"
   ]
  },
  {
   "cell_type": "markdown",
   "id": "3603519d-0162-4e8e-9c19-44e2731970d9",
   "metadata": {},
   "source": [
    "### GC to ATGC, gc to atgc\n",
    "\n",
    "comment what is not appropriate / here rel.94"
   ]
  },
  {
   "cell_type": "code",
   "execution_count": 29,
   "id": "39413d41-b050-478b-bd6c-732d41a91631",
   "metadata": {},
   "outputs": [],
   "source": [
    "GC_to_ATGC={}\n",
    "'''\n",
    "atgc_lower=sum(1 for i in sec_values_94 if i in 'atgc')\n",
    "gc_lower=sum(1 for i in sec_values_94 if i in 'gc')\n",
    "atgc_upper=sum(1 for i in sec_values_94 if i in 'ATGC')\n",
    "gc_upper=sum(1 for i in sec_values_94 if i in 'GC')\n",
    "\n",
    "GC_to_ATGC['94_lower']=gc_lower/atgc_lower  # distract N and n   \n",
    "GC_to_ATGC['94_upper']=gc_upper/atgc_upper  # distract N and n \n",
    "'''\n",
    "atgc_lower=sum(1 for i in sec_values_108 if i in 'atgc')\n",
    "gc_lower=sum(1 for i in sec_values_108 if i in 'gc')\n",
    "atgc_upper=sum(1 for i in sec_values_108 if i in 'ATGC')\n",
    "gc_upper=sum(1 for i in sec_values_108 if i in 'GC')\n",
    "\n",
    "GC_to_ATGC['108_lower']=gc_lower/atgc_lower  # distract N and n, replace release no. \n",
    "GC_to_ATGC['108_upper']=gc_upper/atgc_upper  # distract N and n, replace release no.\n"
   ]
  },
  {
   "cell_type": "code",
   "execution_count": 30,
   "id": "6b31c96f-6e37-4428-93fa-eb82b9a31fa5",
   "metadata": {},
   "outputs": [
    {
     "data": {
      "text/plain": [
       "dict_items([('108_lower', 0.4053924169972052), ('108_upper', 0.4105225443714316)])"
      ]
     },
     "execution_count": 30,
     "metadata": {},
     "output_type": "execute_result"
    }
   ],
   "source": [
    "GC_to_ATGC.items()"
   ]
  },
  {
   "cell_type": "markdown",
   "id": "8fcc81d7-81a2-44a0-8a1d-daa2ac4fd617",
   "metadata": {},
   "source": [
    "## GC soft and (small) and unmasked (capital) repetitions - by chromosomes"
   ]
  },
  {
   "cell_type": "markdown",
   "id": "7e1b3bb4-d79a-41dc-85fc-a621d7c5ca16",
   "metadata": {},
   "source": [
    "## GC DNA release ..... - by chromosomes"
   ]
  },
  {
   "cell_type": "code",
   "execution_count": 36,
   "id": "7012c7b2-53e9-4d3f-bc42-28068d9a32c6",
   "metadata": {},
   "outputs": [],
   "source": [
    "import numpy as np"
   ]
  },
  {
   "cell_type": "code",
   "execution_count": 38,
   "id": "0c989829-49c6-4c86-8eea-be48749886cf",
   "metadata": {},
   "outputs": [],
   "source": [
    "window = 1000 # choose the window size"
   ]
  },
  {
   "cell_type": "code",
   "execution_count": 37,
   "id": "c7988ba9-11e2-4b82-9fb9-d42cda332b7d",
   "metadata": {},
   "outputs": [
    {
     "data": {
      "text/plain": [
       "'Cottoperca_gobio.fCotGob3.1.dna_sm.toplevel.fa'"
      ]
     },
     "execution_count": 37,
     "metadata": {},
     "output_type": "execute_result"
    }
   ],
   "source": [
    "files_108[4]  # Check if you choose right file"
   ]
  },
  {
   "cell_type": "code",
   "execution_count": null,
   "id": "15bf5424-8fb6-4f55-a55b-5212925bec6f",
   "metadata": {},
   "outputs": [],
   "source": [
    "for rec in SeqIO.parse(\"/home/marta/.cache/pyensembl/fCotGob3.1/ensembl108/\"+files_108[4], \"fasta\"): # replace the path\n",
    "    GC_scafolds_108_windowed={}  # per chromosome\n",
    "    if not rec.id.startswith('CA'):\n",
    "        #print(rec.id)  \n",
    "        for w in range(0,len(rec.seq),window):\n",
    "              \n",
    "            #print(range(i,i+window),len(gc_values_94[i:i+window]))\n",
    "            soft_mask=sum(1 for i in rec.seq[w:w+window] if i in 'acgt')\n",
    "            ALL_all=sum(1 for i in rec.seq[w:w+window] if i in 'acgtACGT')\n",
    "            GC_fraction=gc_fraction(rec.seq[w:w+window])\n",
    "            \n",
    "            try:\n",
    "                GC_scafolds_108_windowed[rec.id+'|'+str(w)]=(GC_fraction,soft_mask/ALL_all)  # distract N and n    \n",
    "                #print(range(i,i+window),len(gc_values_94[i:i+window])) \n",
    "            except ZeroDivisionError:\n",
    "                GC_scafolds_108_windowed[rec.id+'|'+str(w)]=(GC_fraction,0.0)  # distract N and n\n",
    "            \n",
    "        fig = plt.figure(figsize=(50,20))\n",
    "        ax1 = fig.add_subplot(111)\n",
    "        ax1.set_facecolor(\"lightgrey\")   \n",
    "        \n",
    "        names = list(GC_scafolds_108_windowed.keys())\n",
    "        v = list(GC_scafolds_108_windowed.values())\n",
    "        v1=[i[0] for i in v]\n",
    "        v2=[i[1] for i in v]\n",
    "            \n",
    "        sc=ax1.scatter(names,v1, s=5, c=v2, cmap='RdYlGn', marker=\"o\", ) # only GC fraction in y axe, only chromosomes\n",
    "        ax1.xaxis.set_ticks(np.arange(0, len(rec.seq)//1000, len(rec.seq)//12000),rotation = 45)\n",
    "        ax1.grid(True)        \n",
    "\n",
    "        plt.title(f'GC mean values of Cottoperca Gobio release 108 - chromosome {rec.id}') # replace the animal name and release no.\n",
    "        plt.ylabel('GC fraction')\n",
    "        plt.xlabel(f'Chromosome {rec.id} windows')\n",
    "        #plt.xticks(rotation = 45)\n",
    "        plt.colorbar(sc,label=\"Red 0% soft-masked to green 100% soft-masked\", orientation=\"horizontal\")\n",
    "        plt.savefig(f'release_108_profile_soft_unmask_{rec.id}.png')  # replace the animal name and release no.\n",
    "        plt.show()\n",
    "        \n",
    "        \n",
    "        with open(f'release_108_profile_soft_unmask_{rec.id}.csv','w') as f: # replace the animal name and release no.\n",
    "            csv_file = csv.writer(f)\n",
    "            csv_file.writerows(GC_scafolds_108_windowed.items())\n",
    "                 \n",
    "        \n"
   ]
  },
  {
   "cell_type": "markdown",
   "id": "7193f6af-ed79-4184-9c84-fadfbbc987e8",
   "metadata": {},
   "source": [
    "# Put all png images to pdf file"
   ]
  },
  {
   "cell_type": "markdown",
   "id": "a4a0997c-baba-4d3a-8874-d3c72e6e9da2",
   "metadata": {},
   "source": [
    "In the end all the files are put together into the pdf file."
   ]
  },
  {
   "cell_type": "code",
   "execution_count": 40,
   "id": "23fdf32d-622d-4ef8-85bc-7e5136de8726",
   "metadata": {},
   "outputs": [],
   "source": [
    "import os\n",
    "from fpdf import FPDF"
   ]
  },
  {
   "cell_type": "code",
   "execution_count": 45,
   "id": "dac1fab7-ef62-406b-816b-092dfc190eb4",
   "metadata": {},
   "outputs": [],
   "source": [
    "imagelist=!ls | grep .png"
   ]
  },
  {
   "cell_type": "code",
   "execution_count": 46,
   "id": "9435e7c2-7b37-4bed-84a5-bdac33718fda",
   "metadata": {},
   "outputs": [],
   "source": [
    "del imagelist[-1] # delete what does not delong to chromosomes"
   ]
  },
  {
   "cell_type": "code",
   "execution_count": 47,
   "id": "e91978c9-3c77-4d0f-9e2c-0f85968b76f4",
   "metadata": {},
   "outputs": [],
   "source": [
    "imagelist=sorted(imagelist,key= lambda x:int(x.split('_')[-1].split('.')[0]))"
   ]
  },
  {
   "cell_type": "code",
   "execution_count": 48,
   "id": "e2ca5c0e-4da3-4eda-af08-b97f47ec68a6",
   "metadata": {},
   "outputs": [
    {
     "name": "stderr",
     "output_type": "stream",
     "text": [
      "/tmp/ipykernel_987201/1978512155.py:6: DeprecationWarning: \"dest\" parameter is deprecated, unused and will soon be removed\n",
      "  pdf.output(\"Release108_Cottoperca_gobio_graphs.pdf\", \"F\")\n"
     ]
    }
   ],
   "source": [
    "pdf = FPDF(orientation = 'L')\n",
    "# imagelist is the list with all image filenames\n",
    "for image in imagelist:\n",
    "    pdf.add_page()\n",
    "    pdf.image(image,x=1,y=10,w=300,h=135)\n",
    "pdf.output(\"Release108_Cottoperca_gobio_graphs.pdf\", \"F\")  # replace the name and relese no."
   ]
  },
  {
   "cell_type": "code",
   "execution_count": null,
   "id": "f289ac0b-03d8-4865-a27d-b676d2ca26f2",
   "metadata": {},
   "outputs": [],
   "source": []
  }
 ],
 "metadata": {
  "kernelspec": {
   "display_name": "Python 3 (ipykernel)",
   "language": "python",
   "name": "python3"
  },
  "language_info": {
   "codemirror_mode": {
    "name": "ipython",
    "version": 3
   },
   "file_extension": ".py",
   "mimetype": "text/x-python",
   "name": "python",
   "nbconvert_exporter": "python",
   "pygments_lexer": "ipython3",
   "version": "3.11.0"
  }
 },
 "nbformat": 4,
 "nbformat_minor": 5
}
