{
 "cells": [
  {
   "cell_type": "markdown",
   "id": "569d0a3e-e270-4f4e-8215-f2af8d246f45",
   "metadata": {},
   "source": [
    "# Comparison of GC of species in Ensembl releases\n",
    "\n",
    "<font color='red'>**Guide of usage**</font>\n",
    "\n",
    "<font color='red'>**Final version do not edit - copy it**</font>\n",
    "\n",
    "universal\n",
    "\n"
   ]
  },
  {
   "cell_type": "markdown",
   "id": "27d2ae7a-d848-4dc8-8cc7-21f1c2f010b8",
   "metadata": {},
   "source": [
    "Marta Vohnoutová, Radka Symonová\n",
    "\n",
    "version 0.2\n",
    "\n",
    "Changes:\n",
    "    \n",
    "    - dots in graphs - same density - adjasted to left\n",
    "    - pick up chromosomes only - universal"
   ]
  },
  {
   "cell_type": "markdown",
   "id": "653e5b07-806f-4b73-a662-edeaa80e0b4f",
   "metadata": {},
   "source": [
    "## <font color='red'>1. Introduction</font>\n",
    "\n",
    "### <font color='red'>1.1 Setup of environment</font>"
   ]
  },
  {
   "cell_type": "markdown",
   "id": "3b1d8515-f186-432d-9ac0-c1a56001cacf",
   "metadata": {},
   "source": [
    "This is the template to run your own setup of GC comparisons of species of your own.\n",
    "\n",
    "1. **At first, you must create your environment.**\n",
    "\n",
    "- **install Anaconda (description for linux Ubuntu v.22)**\n",
    "\n",
    "$ sudo apt update\n",
    "\n",
    "$ sudo apt install curl\n",
    "\n",
    "$ curl --output anaconda.sh https://repo.anaconda.com/archive/Anaconda3-5.3.1-Linux-x86_64.sh\n",
    "\n",
    "$ sha256sum Anaconda3-5.3.1-Linux-x86_64.sh\n",
    "\n",
    "$ bash Anaconda3-5.3.1-Linux-x86_64.sh\n",
    "\n",
    "\n",
    "2. **Create and activate your environment**"
   ]
  },
  {
   "cell_type": "raw",
   "id": "295e97d1-8456-4eae-a765-35ab399f0399",
   "metadata": {},
   "source": [
    "conda create -n evan biopython"
   ]
  },
  {
   "cell_type": "raw",
   "id": "937f53d1-7624-412e-a794-b58f3404d46f",
   "metadata": {},
   "source": [
    "source activate evan"
   ]
  },
  {
   "cell_type": "markdown",
   "id": "763389b8-8ded-454b-ba3b-b12b3f955d19",
   "metadata": {},
   "source": [
    "3. **Install necessary packages**"
   ]
  },
  {
   "cell_type": "raw",
   "id": "ac2969e8-36e8-4c4c-868c-b3ba26989bbb",
   "metadata": {},
   "source": [
    "conda install scipy matplotlib jupyter pip pandas numpy wget pyensembl gzip fpdf"
   ]
  },
  {
   "cell_type": "raw",
   "id": "e211e6f3-9f1e-4d5d-993f-65c0dd1d1988",
   "metadata": {},
   "source": [
    "conda install fpdf"
   ]
  },
  {
   "cell_type": "raw",
   "id": "8ebc1f32-3157-4ac7-8d74-d3118a5d1f67",
   "metadata": {},
   "source": [
    "conda install matplotlib pandas"
   ]
  },
  {
   "cell_type": "markdown",
   "id": "cee7b12d-c725-40a1-a258-169dd3898ff9",
   "metadata": {},
   "source": [
    "4. **Start Jupyter Notebook**\n",
    "\n",
    "Go to the home directory, and start Juputer Notebook."
   ]
  },
  {
   "cell_type": "raw",
   "id": "61da29cd-5bee-44b8-8a67-dc0d80b51ea4",
   "metadata": {},
   "source": [
    "cd ~\n",
    "\n",
    "mkdir evan\n",
    "\n",
    "cd evan\n",
    "\n",
    "mkdir name_of_animal #here replace the name\n",
    "\n",
    "cd name_of_animal\n"
   ]
  },
  {
   "cell_type": "raw",
   "id": "7ca68a3f-008d-4277-b9b7-acb179b95bfd",
   "metadata": {},
   "source": [
    "jupyter notebook &"
   ]
  },
  {
   "cell_type": "markdown",
   "id": "1d3e8293-987c-4e00-a881-241daa407a04",
   "metadata": {},
   "source": [
    "In Jupyter Notebook open this ipynb program teplate and copy it with a different name."
   ]
  },
  {
   "cell_type": "markdown",
   "id": "9a25e608-3b91-4380-83f2-d8a9396855b7",
   "metadata": {},
   "source": [
    "## <font color='red'>2.Import section</font>"
   ]
  },
  {
   "cell_type": "code",
   "execution_count": 168,
   "id": "784f3a76-9d24-4177-93a4-f5bd9fb07c33",
   "metadata": {},
   "outputs": [],
   "source": [
    "#import pyensembl\n",
    "\n",
    "from Bio import SeqIO\n",
    "from Bio.SeqUtils import gc_fraction\n",
    "import matplotlib.pyplot as plt\n",
    "import pandas as pd\n",
    "import numpy as np\n",
    "import os\n",
    "import csv\n",
    "from collections import OrderedDict\n",
    "from PIL import Image\n",
    "from glob import glob"
   ]
  },
  {
   "cell_type": "markdown",
   "id": "dedede07-c31a-4128-92e6-f7c28403a852",
   "metadata": {},
   "source": [
    "## <font color='red'>3.Configuration and download section</font>"
   ]
  },
  {
   "cell_type": "markdown",
   "id": "68d16536-9660-4725-b412-c53a4c3114df",
   "metadata": {},
   "source": [
    "### 3.1 Variable part - replace with right values"
   ]
  },
  {
   "cell_type": "code",
   "execution_count": 158,
   "id": "64dfa0ab-b6bc-41f2-ba01-27deeaed9d7d",
   "metadata": {},
   "outputs": [],
   "source": [
    "species = 'cottoperca_OIST' # replace with your animal\n",
    "where_i_am = '/home/rsymonova/Evan/Evan/Vohnoutova_et_al2023/' # replace with your path\n",
    "where_is_fasta = '/home/rsymonova/Evan/Evan/isochores/' #replace with the path to fasta files\n",
    "window = 1000  # sliding windows - you can change the window size\n",
    "column_name = 'GC DNA' # replace with your column name\n",
    "what_we_filter = 'not rec.id.isdigit()'"
   ]
  },
  {
   "cell_type": "code",
   "execution_count": 240,
   "id": "5d6700cb-e814-4c3b-bd84-0ebb8c44aedd",
   "metadata": {},
   "outputs": [
    {
     "data": {
      "text/plain": [
       "['Anabas_OIST.fa',\n",
       " 'Cottoperca_OIST.fa',\n",
       " 'Danio.fa',\n",
       " 'Esox.fa',\n",
       " 'Lepisosteus.fa',\n",
       " 'Petromyzon.fa',\n",
       " 'Salmo.fa',\n",
       " 'Xiphophorus.fa']"
      ]
     },
     "execution_count": 240,
     "metadata": {},
     "output_type": "execute_result"
    }
   ],
   "source": [
    "filesRS=!ls {where_is_fasta} | grep .fa  #replace grep with right filter\n",
    "filesRS"
   ]
  },
  {
   "cell_type": "code",
   "execution_count": 160,
   "id": "91423240-a69f-4240-94ea-d3225abf0e7d",
   "metadata": {},
   "outputs": [],
   "source": [
    "my_fasta_file=filesRS[1]  # replace with your choice"
   ]
  },
  {
   "cell_type": "markdown",
   "id": "a2bdf431-29d3-42bd-9cf5-85a6eaced789",
   "metadata": {},
   "source": [
    "Choose what file you will work with / e.g. file_108[4] if the file is 'Cottoperca_gobio.fCotGob3.1.dna_sm.toplevel.fa'"
   ]
  },
  {
   "cell_type": "markdown",
   "id": "0dbbe7cd-aa8e-4562-8da9-c8043702b20a",
   "metadata": {},
   "source": [
    "#### Create subdirectory for particular species"
   ]
  },
  {
   "cell_type": "code",
   "execution_count": 161,
   "id": "b5ecb61f-35ed-4f03-ac34-8fb8b7be063a",
   "metadata": {},
   "outputs": [],
   "source": [
    "try:\n",
    "    os.mkdir(f'{where_i_am}{species}')\n",
    "except OSError as error:\n",
    "    pass"
   ]
  },
  {
   "cell_type": "markdown",
   "id": "ddfe99a9-068c-45bd-891b-a83dabae52da",
   "metadata": {},
   "source": [
    "**Pyensembl only, if you do not have your data and want to download it**"
   ]
  },
  {
   "cell_type": "raw",
   "id": "4759c030-9d29-49b3-89c0-edeb39e77811",
   "metadata": {},
   "source": [
    "!whereis pyensembl  # here you will see the path to species.py"
   ]
  },
  {
   "cell_type": "raw",
   "id": "c06c2512-c65a-45a2-ac19-e5292a356335",
   "metadata": {},
   "source": [
    "Edit species.py in directory /home/marta/anaconda3/envs/evan/lib/python3.11/site-packages/pyensembl/\n",
    "\n",
    "add in the end something like\n",
    "\n",
    "anabas = Species.register(\n",
    "    latin_name=\"anabas_testudineus\",\n",
    "    synonyms=[\"anabas\"],\n",
    "    reference_assemblies={\n",
    "        \"fAnaTes1.1\": (94, MAX_ENSEMBL_RELEASE),\n",
    "        \"fAnaTes1.1\": (108, MAX_ENSEMBL_RELEASE)\n",
    "    })\n",
    "\n",
    "# 'cottoperca_gobio'\n",
    "# Cottoperca_gobio.fCotGob3.1.dna.nonchromosomal.fa.gz\n",
    "\n",
    "cottoperca = Species.register(\n",
    "    latin_name=\"cottoperca_gobio\",\n",
    "    synonyms=[\"cottoperca\"],\n",
    "    reference_assemblies={        \n",
    "        \"fCotGob3.1\": (108, MAX_ENSEMBL_RELEASE)\n",
    "    })"
   ]
  },
  {
   "cell_type": "markdown",
   "id": "b32d39f0-4b43-48e9-852f-f5818855e078",
   "metadata": {},
   "source": [
    "### <font color='red'>Define the cache for downloaded files</font>"
   ]
  },
  {
   "cell_type": "raw",
   "id": "d3a30e02-0b54-49e0-be49-f90782fc92c0",
   "metadata": {},
   "source": [
    "!export PYENSEMBL_CACHE_DIR=~/.cache/pyensembl  # similar to this example"
   ]
  },
  {
   "cell_type": "markdown",
   "id": "e47a5d02-1e7c-49b1-b001-89aef35b46d7",
   "metadata": {},
   "source": [
    "**Define the Ensembl release you want to work with**"
   ]
  },
  {
   "cell_type": "raw",
   "id": "0e55003d-ff41-42fc-879d-5e40d7e6b9e8",
   "metadata": {},
   "source": [
    "!pyensembl install --release 108  --species {species} # replace the release and animal name"
   ]
  },
  {
   "cell_type": "markdown",
   "id": "f8578317-90c5-4b1f-9688-77c06788907f",
   "metadata": {},
   "source": [
    "Look at the .cache anf if not all required files are downloaded, you can do it manually with **wget**"
   ]
  },
  {
   "cell_type": "raw",
   "id": "13627f67-79ee-494a-a98a-1f38e41341bd",
   "metadata": {},
   "source": [
    "import wget"
   ]
  },
  {
   "cell_type": "raw",
   "id": "d91dc4e4-907d-48f9-9d8d-5a1059fb70a1",
   "metadata": {},
   "source": [
    "wget.download('https://ftp.ensembl.org/pub/release-108/fasta/cottoperca_gobio/dna/Cottoperca_gobio.fCotGob3.1.dna_sm.toplevel.fa.gz') # replace the path and animal name"
   ]
  },
  {
   "cell_type": "markdown",
   "id": "187346f4-f636-4b14-9949-3fb7b82b3611",
   "metadata": {},
   "source": [
    "Verify if you are in the directory with the animal e.g. in this case \"cottoperca_gobio\""
   ]
  },
  {
   "cell_type": "code",
   "execution_count": 162,
   "id": "d5cb7407-deb6-406b-8950-b63f33af355b",
   "metadata": {},
   "outputs": [
    {
     "name": "stdout",
     "output_type": "stream",
     "text": [
      "/mnt/data/radka/Evan/Vohnoutova_et_al2023\n"
     ]
    }
   ],
   "source": [
    "# where are you\n",
    "!pwd"
   ]
  },
  {
   "cell_type": "markdown",
   "id": "3d018d5b-d3ff-47c6-9ea0-f66cff4f34de",
   "metadata": {},
   "source": [
    "This file you must unzip it - see the example."
   ]
  },
  {
   "cell_type": "raw",
   "id": "679a356f-df3c-4844-a176-00478dbd3d0a",
   "metadata": {},
   "source": [
    "!gzip -d /home/marta/.cache/pyensembl/fCotGob3.1/ensembl108/Cottoperca_gobio/fCotGob3.1.dna_sm.toplevel.fa.gz  # replace the path"
   ]
  },
  {
   "cell_type": "markdown",
   "id": "00c25676-eb68-4857-9b34-e52846f0b88a",
   "metadata": {},
   "source": [
    "where = '/home/marta/.cache/pyensembl/fCotGob3.1/ensembl108/'"
   ]
  },
  {
   "cell_type": "markdown",
   "id": "df3841bd-6d70-46b9-9e50-0f89b7536b29",
   "metadata": {},
   "source": [
    "## <font color='red'>3.Parsing section</font>"
   ]
  },
  {
   "cell_type": "code",
   "execution_count": 5,
   "id": "9af63cbb-d6c7-4873-ba62-12b4cd177f43",
   "metadata": {},
   "outputs": [],
   "source": []
  },
  {
   "cell_type": "markdown",
   "id": "b47c6b5d-75df-4646-88a9-b98aaecc75d7",
   "metadata": {},
   "source": [
    "# DNA only relese ..... - pandas table"
   ]
  },
  {
   "cell_type": "markdown",
   "id": "8841c1f3-83d8-42b4-b1ae-e8df991814a8",
   "metadata": {},
   "source": [
    "## GC DNA release ....."
   ]
  },
  {
   "cell_type": "code",
   "execution_count": 163,
   "id": "0e1805a1-ea88-4474-943d-5b59fdeb3481",
   "metadata": {},
   "outputs": [],
   "source": [
    "sec_values = '' # replace with your release number\n",
    "c=[]\n",
    "for rec in SeqIO.parse(f\"{where_is_fasta}{my_fasta_file}\", \"fasta\"):\n",
    "    \n",
    "    c.append(rec.id)\n",
    "    sec_values += rec.seq\n",
    "    \n",
    "gc_values = tuple(gc_fraction(sec_values[i:i+window]) for i in range(0,len(sec_values),window)) # replace with your release number\n",
    "\n",
    "columns_dna = [column_name] # replace with your name e.g. release number\n",
    "\n",
    "gc_df_dna = pd.DataFrame(gc_values, columns = columns_dna) # replace with your release number"
   ]
  },
  {
   "cell_type": "raw",
   "id": "ff86266a-92ad-4979-8d56-2b1e6a7ac1fd",
   "metadata": {},
   "source": [
    "gc_values"
   ]
  },
  {
   "cell_type": "markdown",
   "id": "46d7ba76-ca95-4bd4-b787-00f846c54bb4",
   "metadata": {},
   "source": [
    "## GC soft and (small) and unmasked (capital) repetitions"
   ]
  },
  {
   "cell_type": "markdown",
   "id": "a51143da-b3dc-4999-bd0c-5c66cb65dad1",
   "metadata": {},
   "source": [
    "## GC DNA release ....."
   ]
  },
  {
   "cell_type": "code",
   "execution_count": 172,
   "id": "14f725af-5b41-44d0-bd00-bd25a068f189",
   "metadata": {},
   "outputs": [],
   "source": [
    "GC_chromosoms=OrderedDict()\n",
    "chomosome_no=0\n",
    "for rec in SeqIO.parse(f\"{where_is_fasta}{my_fasta_file}\", \"fasta\"):  # replace the path\n",
    "    if eval(what_we_filter):  # chromosomes only\n",
    "        soft_mask=sum(1 for i in rec.seq if i in 'acgt')\n",
    "        ALL_all=sum(1 for i in rec.seq if i in 'acgtACGT')\n",
    "        GC_fraction=gc_fraction(rec.seq)\n",
    "        chomosome_no += 1\n",
    "        GC_chromosoms[str(chomosome_no) + '+' + rec.id]=((GC_fraction,soft_mask/ALL_all),len(rec.seq))  # we distract N and n   \n",
    "\n",
    "#all_images = sorted([os.path.basename(f) for f in glob(f\"{where_i_am}{species}/*profile*.png\")],key=lambda x: int(x.split('_')[-1].split('.')[0]))\n",
    "\n",
    "GC_chromosoms = OrderedDict(sorted(GC_chromosoms.items(), key=lambda x: x[1][1],reverse=True))"
   ]
  },
  {
   "cell_type": "code",
   "execution_count": 173,
   "id": "8f7457bf-16ba-4a11-9728-d8fbb66730d7",
   "metadata": {},
   "outputs": [
    {
     "data": {
      "text/plain": [
       "OrderedDict([('5+ENA|LR131935|LR131935.1',\n",
       "              ((0.40771028056836156, 0.26172963543221006), 30479438)),\n",
       "             ('9+ENA|LR131939|LR131939.1',\n",
       "              ((0.40867709843459904, 0.23503259514623812), 30072547)),\n",
       "             ('3+ENA|LR131933|LR131933.1',\n",
       "              ((0.4032972952361542, 0.24405482959290087), 30028995)),\n",
       "             ('4+ENA|LR131934|LR131934.1',\n",
       "              ((0.4064355195179001, 0.26340883704278506), 28949045)),\n",
       "             ('13+ENA|LR131920|LR131920.1',\n",
       "              ((0.40909998285626287, 0.2553741620635248), 27742916)),\n",
       "             ('6+ENA|LR131936|LR131936.1',\n",
       "              ((0.4092075763725821, 0.2419895700504481), 27680345)),\n",
       "             ('10+ENA|LR131917|LR131917.1',\n",
       "              ((0.40778491354275276, 0.2757633966163528), 27438269)),\n",
       "             ('1+ENA|LR131916|LR131916.1',\n",
       "              ((0.40814745909188405, 0.27957934285544367), 27055867)),\n",
       "             ('16+ENA|LR131923|LR131923.1',\n",
       "              ((0.40960814643715465, 0.23370477984345692), 26581398)),\n",
       "             ('14+ENA|LR131921|LR131921.1',\n",
       "              ((0.40489221966870464, 0.250162566794175), 25704503)),\n",
       "             ('17+ENA|LR131924|LR131924.1',\n",
       "              ((0.4080977423537412, 0.2534343737321996), 25156145)),\n",
       "             ('15+ENA|LR131922|LR131922.1',\n",
       "              ((0.409567413127844, 0.23324127625295674), 24963210)),\n",
       "             ('21+ENA|LR131929|LR131929.1',\n",
       "              ((0.40558444142770966, 0.24334879786129016), 24104793)),\n",
       "             ('8+ENA|LR131938|LR131938.1',\n",
       "              ((0.4115169054844562, 0.26902241688608086), 23432536)),\n",
       "             ('7+ENA|LR131937|LR131937.1',\n",
       "              ((0.40999156577005563, 0.2396669825521754), 23069680)),\n",
       "             ('12+ENA|LR131919|LR131919.1',\n",
       "              ((0.40598729214636164, 0.2718863070962306), 22902521)),\n",
       "             ('22+ENA|LR131930|LR131930.1',\n",
       "              ((0.41253309579159136, 0.252774641384023), 22609112)),\n",
       "             ('24+ENA|LR131932|LR131932.1',\n",
       "              ((0.41086758349515057, 0.2701858233286377), 22441820)),\n",
       "             ('11+ENA|LR131918|LR131918.1',\n",
       "              ((0.4079062285611757, 0.2485296108056439), 22193419)),\n",
       "             ('19+ENA|LR131926|LR131926.1',\n",
       "              ((0.4116962929985457, 0.25594310984477486), 21060126)),\n",
       "             ('20+ENA|LR131928|LR131928.1',\n",
       "              ((0.41443687295086556, 0.2043045254502776), 17599799)),\n",
       "             ('23+ENA|LR131931|LR131931.1',\n",
       "              ((0.41754265112409306, 0.22188361473468693), 15932363)),\n",
       "             ('18+ENA|LR131925|LR131925.1',\n",
       "              ((0.41717795227880733, 0.22128985444522287), 14930383)),\n",
       "             ('2+ENA|LR131927|LR131927.1',\n",
       "              ((0.41938191102427813, 0.23513998467310082), 12923129))])"
      ]
     },
     "execution_count": 173,
     "metadata": {},
     "output_type": "execute_result"
    }
   ],
   "source": [
    "GC_chromosoms # replace with your release number"
   ]
  },
  {
   "cell_type": "code",
   "execution_count": 174,
   "id": "52375735-9c91-4ecc-b0a6-e07cd0da8dd5",
   "metadata": {},
   "outputs": [],
   "source": [
    "with open(f'{where_i_am}{species}/{species}.csv','w') as f:  # name csv file as you wish \n",
    "    w = csv.writer(f)\n",
    "    w.writerows(GC_chromosoms.items())"
   ]
  },
  {
   "cell_type": "markdown",
   "id": "324090d9-3f3e-45e3-8370-5829704c14d7",
   "metadata": {},
   "source": [
    "## Graph scatter - color by value"
   ]
  },
  {
   "cell_type": "code",
   "execution_count": 177,
   "id": "7dd0cb71-913b-41ae-858d-ad8c0e3882ce",
   "metadata": {},
   "outputs": [
    {
     "data": {
      "image/png": "[encoded data removed]",
      "text/plain": [
       "<Figure size 1500x1000 with 2 Axes>"
      ]
     },
     "metadata": {},
     "output_type": "display_data"
    }
   ],
   "source": [
    "fig = plt.figure(figsize=(15,10))\n",
    "ax1 = fig.add_subplot(111)\n",
    "ax1.set_facecolor(\"lightgrey\")       \n",
    "#print(range(i,i+window),len(gc_values_94[i:i+window]))\n",
    "        \n",
    "names = list(i.split('+')[0] for i in GC_chromosoms.keys())\n",
    "v = list(GC_chromosoms.values())\n",
    "v1=[i[0][0] for i in v]\n",
    "v2=[i[0][1] for i in v]\n",
    "\n",
    "sc=ax1.scatter(names,v1, s=150, c=v2, cmap='RdYlGn', marker=\"o\", ) # only GC fraction in y axe, only chromosomes\n",
    "plt.grid(True)\n",
    "plt.title(f'GC mean values of {species}\\nsorted by size')  # Replace the animal name\n",
    "plt.ylabel('GC fraction')\n",
    "plt.xlabel('Chromosomes')\n",
    "plt.xticks(rotation = 45)\n",
    "plt.colorbar(sc,label=\"Red 0% soft-masked to green 100% soft-masked\", orientation=\"horizontal\")\n",
    "plt.savefig(f'{where_i_am}{species}/soft_unmask_per_chromosomes_{species}.png')  # Replace the animal name\n",
    "plt.show()"
   ]
  },
  {
   "cell_type": "code",
   "execution_count": null,
   "id": "8eb07472-5af0-479b-bbdd-ee0425d5bf9b",
   "metadata": {},
   "outputs": [],
   "source": []
  },
  {
   "cell_type": "markdown",
   "id": "4c79f0cd-5a8e-48e7-8209-8ce80b3370ef",
   "metadata": {},
   "source": [
    "## Relations between release ..... and .... - whole sequence"
   ]
  },
  {
   "cell_type": "markdown",
   "id": "e50a8f81-7629-4508-9dd3-0f0c56126441",
   "metadata": {},
   "source": [
    "### GC DNA release 94"
   ]
  },
  {
   "cell_type": "markdown",
   "id": "9ac298af-59c3-4fe4-b6c6-985bbb220475",
   "metadata": {},
   "source": [
    "Replace the path with your"
   ]
  },
  {
   "cell_type": "raw",
   "id": "51f5611a-b912-4f62-b52d-33df8b83f49c",
   "metadata": {},
   "source": [
    "sec_values_94 = ''\n",
    "c=[]\n",
    "for rec in SeqIO.parse(\"/home/marta/.cache/pyensembl/fCotGob3.1/ensembl108/\"+files_108[4]\"+files_94[4], \"fasta\"):  # replace the path\n",
    "    sec_values_94 += rec.seq\n",
    "\n",
    "gc_94_all = gc_fraction(sec_values_94)\n"
   ]
  },
  {
   "cell_type": "markdown",
   "id": "689c6ed9-5a66-4404-89b9-f093906f7f4d",
   "metadata": {},
   "source": [
    "### GC DNA release 108"
   ]
  },
  {
   "cell_type": "code",
   "execution_count": 178,
   "id": "6d8c52bd-782c-4528-a337-60a7f4a0668a",
   "metadata": {},
   "outputs": [],
   "source": [
    "sec_values = ''\n",
    "c=[]\n",
    "for rec in SeqIO.parse(f\"{where_is_fasta}{my_fasta_file}\",\"fasta\"): # replace the path\n",
    "    sec_values += rec.seq\n",
    "    \n",
    "gc_all = gc_fraction(sec_values)"
   ]
  },
  {
   "cell_type": "markdown",
   "id": "a61974f8-09d7-4182-bbb2-3dc494c7c9d8",
   "metadata": {},
   "source": [
    "## Results - %GC rel.94 / %GC rel.108 (not here)\n",
    "\n",
    "## Results - here %GC rel.108 only"
   ]
  },
  {
   "cell_type": "code",
   "execution_count": 179,
   "id": "8d030493-1c2d-4bcb-814c-020e41f297c4",
   "metadata": {},
   "outputs": [
    {
     "name": "stdout",
     "output_type": "stream",
     "text": [
      "%GC of cottoperca_OIST is 0.4092285307602729\n"
     ]
    }
   ],
   "source": [
    "#print(f'%GC release 94 is {gc_94_all}, %GC release 108 is {gc_108_all}, %GC rel.94 / %GC rel 108 is {gc_94_all/gc_108_all}')\n",
    "print(f'%GC of {species} is {gc_all}')"
   ]
  },
  {
   "cell_type": "markdown",
   "id": "04d48227-c9a5-4309-bfa0-6ac23f3dfcca",
   "metadata": {},
   "source": [
    "### Soft vs Unmasked"
   ]
  },
  {
   "cell_type": "code",
   "execution_count": 180,
   "id": "7073345a-9788-4e8d-9a7f-595005836e57",
   "metadata": {},
   "outputs": [
    {
     "data": {
      "text/plain": [
       "dict_items([('cottoperca_OIST', (0.4092285307602729, 0.25015370660549935))])"
      ]
     },
     "execution_count": 180,
     "metadata": {},
     "output_type": "execute_result"
    }
   ],
   "source": [
    "gc_all.items()"
   ]
  },
  {
   "cell_type": "markdown",
   "id": "3603519d-0162-4e8e-9c19-44e2731970d9",
   "metadata": {},
   "source": [
    "### GC to ATGC, gc to atgc\n",
    "\n",
    "comment what is not appropriate / here rel.94"
   ]
  },
  {
   "cell_type": "code",
   "execution_count": 181,
   "id": "39413d41-b050-478b-bd6c-732d41a91631",
   "metadata": {},
   "outputs": [],
   "source": [
    "GC_to_ATGC={}\n",
    "\n",
    "atgc_lower=sum(1 for i in sec_values if i in 'atgc')\n",
    "gc_lower=sum(1 for i in sec_values if i in 'gc')\n",
    "atgc_upper=sum(1 for i in sec_values if i in 'ATGC')\n",
    "gc_upper=sum(1 for i in sec_values if i in 'GC')\n",
    "\n",
    "GC_to_ATGC['lower']=gc_lower/atgc_lower  # distract N and n, replace release no. \n",
    "GC_to_ATGC['upper']=gc_upper/atgc_upper  # distract N and n, replace release no.\n"
   ]
  },
  {
   "cell_type": "code",
   "execution_count": 189,
   "id": "6b31c96f-6e37-4428-93fa-eb82b9a31fa5",
   "metadata": {},
   "outputs": [
    {
     "data": {
      "text/plain": [
       "dict_items([('lower', 0.4023479510007686), ('upper', 0.4115239378931707)])"
      ]
     },
     "execution_count": 189,
     "metadata": {},
     "output_type": "execute_result"
    }
   ],
   "source": [
    "GC_to_ATGC.items()"
   ]
  },
  {
   "cell_type": "markdown",
   "id": "8fcc81d7-81a2-44a0-8a1d-daa2ac4fd617",
   "metadata": {},
   "source": [
    "## GC soft and (small) and unmasked (capital) repetitions - by chromosomes"
   ]
  },
  {
   "cell_type": "markdown",
   "id": "7e1b3bb4-d79a-41dc-85fc-a621d7c5ca16",
   "metadata": {},
   "source": [
    "## GC DNA release ..... - by chromosomes"
   ]
  },
  {
   "cell_type": "code",
   "execution_count": 190,
   "id": "c7988ba9-11e2-4b82-9fb9-d42cda332b7d",
   "metadata": {},
   "outputs": [
    {
     "data": {
      "text/plain": [
       "'Cottoperca_OIST.fa'"
      ]
     },
     "execution_count": 190,
     "metadata": {},
     "output_type": "execute_result"
    }
   ],
   "source": [
    "my_fasta_file  # Check if you choose right file"
   ]
  },
  {
   "cell_type": "code",
   "execution_count": 185,
   "id": "2a7c50ff-d45d-4ed8-8a93-f920d2a49baf",
   "metadata": {},
   "outputs": [],
   "source": [
    "lengths=[]\n",
    "for rec in SeqIO.parse(f\"{where_is_fasta}{my_fasta_file}\", \"fasta\"): \n",
    "        lengths.append(len(rec.seq))\n",
    "max_len=max(lengths)"
   ]
  },
  {
   "cell_type": "code",
   "execution_count": 191,
   "id": "a491bfe0-3550-4f58-a35f-67356388347c",
   "metadata": {},
   "outputs": [
    {
     "name": "stdout",
     "output_type": "stream",
     "text": [
      "30479438\n"
     ]
    }
   ],
   "source": [
    "print(max_len)"
   ]
  },
  {
   "cell_type": "code",
   "execution_count": 192,
   "id": "4b16840d-c877-45c9-8b8c-c30e5af698b3",
   "metadata": {},
   "outputs": [
    {
     "data": {
      "text/plain": [
       "2539"
      ]
     },
     "execution_count": 192,
     "metadata": {},
     "output_type": "execute_result"
    }
   ],
   "source": [
    "max_len//12000"
   ]
  },
  {
   "cell_type": "code",
   "execution_count": null,
   "id": "43b4eb52-269c-4864-bb0e-69949774b34a",
   "metadata": {},
   "outputs": [],
   "source": [
    "# adjusted chromosome density\n",
    "for rec in SeqIO.parse(f\"{where_is_fasta}{my_fasta_file}\", \"fasta\"): # replace the path\n",
    "    GC_chromosoms_windowed={}  # per chromosome\n",
    "    if eval(what_we_filter):\n",
    "        #print(rec.id)  \n",
    "        for w in range(0,len(rec.seq),window):\n",
    "              \n",
    "            #print(range(i,i+window),len(gc_values_94[i:i+window]))\n",
    "            soft_mask=sum(1 for i in rec.seq[w:w+window] if i in 'acgt')\n",
    "            ALL_all=sum(1 for i in rec.seq[w:w+window] if i in 'acgtACGT')\n",
    "            GC_fraction=gc_fraction(rec.seq[w:w+window])\n",
    "            \n",
    "            try:\n",
    "                GC_chromosoms_windowed[str(w)+'|'+ rec.id]=(GC_fraction,soft_mask/ALL_all)  # distract N and n    \n",
    "                #print(range(i,i+window),len(gc_values_94[i:i+window])) \n",
    "            except ZeroDivisionError:\n",
    "                GC_chromosoms_windowed[str(w)+'|'+ rec.id]=(GC_fraction,0.0)  # distract N and n\n",
    "            \n",
    "        #fig = plt.figure(figsize=(int(50* (len(rec.seq)/max_len)),int(20* (len(rec.seq)/max_len))))\n",
    "        fig = plt.figure(figsize=(50,20))\n",
    "        ax1 = fig.add_subplot(111)\n",
    "        ax1.set_facecolor(\"lightgrey\")   \n",
    "        \n",
    "        names = list(GC_chromosoms_windowed.keys())\n",
    "        \n",
    "        v = list(GC_chromosoms_windowed.values())\n",
    "        v1=[i[0] for i in v]\n",
    "        v2=[i[1] for i in v]\n",
    "        names_part=[n.split('|')[0] for n in names]\n",
    "       \n",
    "        sc=ax1.scatter(names_part,v1, s=5, c=v2, cmap='RdYlGn', marker=\"o\", ) # only GC fraction in y axe, only chromosomes\n",
    "        ax1.xaxis.set_ticks(np.arange(0, max_len//1000, max_len//12000))\n",
    "        ax1.grid(True)        \n",
    "\n",
    "        plt.title(f'GC% values of {species} - chromosome {rec.id}', fontsize = 35) # replace the animal name and release no.\n",
    "        plt.ylabel('GC fraction', fontsize = 30)\n",
    "        plt.xlabel(f'Chromosome {rec.id} windows', fontsize = 30)\n",
    "        plt.xticks(fontsize = 30, rotation = 45)\n",
    "        plt.yticks(fontsize = 30)\n",
    "        plt.colorbar(sc,label=\"Red 0% soft-masked to green 100% soft-masked\", orientation=\"horizontal\")\n",
    "        plt.savefig(f'{where_i_am}{species}/{species}_profile_soft_unmask_{rec.id}.png')  # replace the animal name and release no.\n",
    "        plt.show()\n",
    "        \n",
    "        \n",
    "        with open(f'{where_i_am}{species}/{species}_profile_soft_unmask_{rec.id}.csv','w') as f: # replace the animal name and release no.\n",
    "            csv_file = csv.writer(f)\n",
    "            csv_file.writerows(GC_chromosoms_windowed.items())\n",
    "                 \n",
    "        "
   ]
  },
  {
   "cell_type": "markdown",
   "id": "7b576006-ddec-4ccb-9c42-c49d14984d1c",
   "metadata": {},
   "source": [
    "## Merge all graph images "
   ]
  },
  {
   "cell_type": "markdown",
   "id": "9610dfd5-8a32-481d-8dcd-f3ae1fd0e82c",
   "metadata": {},
   "source": [
    "#### Prepare small graphs without colorbars"
   ]
  },
  {
   "cell_type": "code",
   "execution_count": null,
   "id": "72998cb8-22c9-4402-8318-552b05bc0954",
   "metadata": {},
   "outputs": [],
   "source": [
    "# adjusted chromosome density\n",
    "for rec in SeqIO.parse(f\"{where_is_fasta}{my_fasta_file}\", \"fasta\"): # replace the path\n",
    "    GC_chromosoms_windowed={}  # per chromosome\n",
    "    if eval(what_we_filter):\n",
    "        #print(rec.id)  \n",
    "        for w in range(0,len(rec.seq),window):\n",
    "              \n",
    "            #print(range(i,i+window),len(gc_values_94[i:i+window]))\n",
    "            soft_mask=sum(1 for i in rec.seq[w:w+window] if i in 'acgt')\n",
    "            ALL_all=sum(1 for i in rec.seq[w:w+window] if i in 'acgtACGT')\n",
    "            GC_fraction=gc_fraction(rec.seq[w:w+window])\n",
    "            \n",
    "            try:\n",
    "                GC_chromosoms_windowed[str(w)+'|'+ rec.id]=(GC_fraction,soft_mask/ALL_all)  # distract N and n    \n",
    "                #print(range(i,i+window),len(gc_values_94[i:i+window])) \n",
    "            except ZeroDivisionError:\n",
    "                GC_chromosoms_windowed[str(w)+'|'+ rec.id]=(GC_fraction,0.0)  # distract N and n\n",
    "            \n",
    "        #fig = plt.figure(figsize=(int(50* (len(rec.seq)/max_len)),int(20* (len(rec.seq)/max_len))))\n",
    "        fig = plt.figure(figsize=(25,10))\n",
    "        ax1 = fig.add_subplot(111)\n",
    "        \n",
    "        names = list(GC_chromosoms_windowed.keys())\n",
    "        v = list(GC_chromosoms_windowed.values())\n",
    "        v1=[i[0] for i in v]\n",
    "        v2=[i[1] for i in v]\n",
    "        names_part=[n.split('|')[0] for n in names]\n",
    "       \n",
    "        sc=ax1.scatter(names_part,v1, s=5, c=v2, cmap='RdYlGn', marker=\"o\", ) # only GC fraction in y axe, only chromosomes\n",
    "        ax1.xaxis.set_ticks(np.arange(0, max_len//1000, max_len//12000))    \n",
    "        plt.title(f'GC% values of {species} - chromosome {rec.id}', fontsize = 35) # replace the animal name and release no.        \n",
    "        plt.savefig(f'{where_i_am}{species}/{species}_nobar_soft_unmask_{rec.id}.{len(rec.seq)}.png')  # replace the animal name and release no.\n",
    "        plt.show()"
   ]
  },
  {
   "cell_type": "markdown",
   "id": "e00f80f7-ba07-432e-8a3c-731bd005db3c",
   "metadata": {},
   "source": [
    "#### Read graphs one by one and merge them all"
   ]
  },
  {
   "cell_type": "code",
   "execution_count": 234,
   "id": "3f4c7318-8273-4d9d-8e1a-66cff004dd19",
   "metadata": {},
   "outputs": [],
   "source": [
    "# list of all graph images sorted to chromosomes no.\n",
    "all_images = sorted([f for f in glob(f\"{where_i_am}{species}/*nobar*.png\")],key=lambda x: x.split('.')[-2], reverse = True)"
   ]
  },
  {
   "cell_type": "code",
   "execution_count": 235,
   "id": "cb5054bd-bbca-4057-91fd-36a31ba1e8bd",
   "metadata": {},
   "outputs": [
    {
     "data": {
      "text/plain": [
       "['/home/rsymonova/Evan/Evan/Vohnoutova_et_al2023/cottoperca_OIST/cottoperca_OIST_nobar_soft_unmask_ENA|LR131933|LR131933.1.png',\n",
       " '/home/rsymonova/Evan/Evan/Vohnoutova_et_al2023/cottoperca_OIST/cottoperca_OIST_nobar_soft_unmask_ENA|LR131916|LR131916.1.png',\n",
       " '/home/rsymonova/Evan/Evan/Vohnoutova_et_al2023/cottoperca_OIST/cottoperca_OIST_nobar_soft_unmask_ENA|LR131920|LR131920.1.png',\n",
       " '/home/rsymonova/Evan/Evan/Vohnoutova_et_al2023/cottoperca_OIST/cottoperca_OIST_nobar_soft_unmask_ENA|LR131924|LR131924.1.png',\n",
       " '/home/rsymonova/Evan/Evan/Vohnoutova_et_al2023/cottoperca_OIST/cottoperca_OIST_nobar_soft_unmask_ENA|LR131935|LR131935.1.png',\n",
       " '/home/rsymonova/Evan/Evan/Vohnoutova_et_al2023/cottoperca_OIST/cottoperca_OIST_nobar_soft_unmask_ENA|LR131921|LR131921.1.png',\n",
       " '/home/rsymonova/Evan/Evan/Vohnoutova_et_al2023/cottoperca_OIST/cottoperca_OIST_nobar_soft_unmask_ENA|LR131936|LR131936.1.png',\n",
       " '/home/rsymonova/Evan/Evan/Vohnoutova_et_al2023/cottoperca_OIST/cottoperca_OIST_nobar_soft_unmask_ENA|LR131923|LR131923.1.png',\n",
       " '/home/rsymonova/Evan/Evan/Vohnoutova_et_al2023/cottoperca_OIST/cottoperca_OIST_nobar_soft_unmask_ENA|LR131930|LR131930.1.png',\n",
       " '/home/rsymonova/Evan/Evan/Vohnoutova_et_al2023/cottoperca_OIST/cottoperca_OIST_nobar_soft_unmask_ENA|LR131934|LR131934.1.png',\n",
       " '/home/rsymonova/Evan/Evan/Vohnoutova_et_al2023/cottoperca_OIST/cottoperca_OIST_nobar_soft_unmask_ENA|LR131939|LR131939.1.png',\n",
       " '/home/rsymonova/Evan/Evan/Vohnoutova_et_al2023/cottoperca_OIST/cottoperca_OIST_nobar_soft_unmask_ENA|LR131938|LR131938.1.png',\n",
       " '/home/rsymonova/Evan/Evan/Vohnoutova_et_al2023/cottoperca_OIST/cottoperca_OIST_nobar_soft_unmask_ENA|LR131917|LR131917.1.png',\n",
       " '/home/rsymonova/Evan/Evan/Vohnoutova_et_al2023/cottoperca_OIST/cottoperca_OIST_nobar_soft_unmask_ENA|LR131932|LR131932.1.png',\n",
       " '/home/rsymonova/Evan/Evan/Vohnoutova_et_al2023/cottoperca_OIST/cottoperca_OIST_nobar_soft_unmask_ENA|LR131918|LR131918.1.png',\n",
       " '/home/rsymonova/Evan/Evan/Vohnoutova_et_al2023/cottoperca_OIST/cottoperca_OIST_nobar_soft_unmask_ENA|LR131929|LR131929.1.png',\n",
       " '/home/rsymonova/Evan/Evan/Vohnoutova_et_al2023/cottoperca_OIST/cottoperca_OIST_nobar_soft_unmask_ENA|LR131937|LR131937.1.png',\n",
       " '/home/rsymonova/Evan/Evan/Vohnoutova_et_al2023/cottoperca_OIST/cottoperca_OIST_nobar_soft_unmask_ENA|LR131926|LR131926.1.png',\n",
       " '/home/rsymonova/Evan/Evan/Vohnoutova_et_al2023/cottoperca_OIST/cottoperca_OIST_nobar_soft_unmask_ENA|LR131919|LR131919.1.png',\n",
       " '/home/rsymonova/Evan/Evan/Vohnoutova_et_al2023/cottoperca_OIST/cottoperca_OIST_nobar_soft_unmask_ENA|LR131922|LR131922.1.png',\n",
       " '/home/rsymonova/Evan/Evan/Vohnoutova_et_al2023/cottoperca_OIST/cottoperca_OIST_nobar_soft_unmask_ENA|LR131928|LR131928.1.png',\n",
       " '/home/rsymonova/Evan/Evan/Vohnoutova_et_al2023/cottoperca_OIST/cottoperca_OIST_nobar_soft_unmask_ENA|LR131931|LR131931.1.png',\n",
       " '/home/rsymonova/Evan/Evan/Vohnoutova_et_al2023/cottoperca_OIST/cottoperca_OIST_nobar_soft_unmask_ENA|LR131925|LR131925.1.png',\n",
       " '/home/rsymonova/Evan/Evan/Vohnoutova_et_al2023/cottoperca_OIST/cottoperca_OIST_nobar_soft_unmask_ENA|LR131927|LR131927.1.png']"
      ]
     },
     "execution_count": 235,
     "metadata": {},
     "output_type": "execute_result"
    }
   ],
   "source": [
    "all_images"
   ]
  },
  {
   "cell_type": "code",
   "execution_count": 236,
   "id": "2845864b-a3d9-459c-ae4c-6e78abf9c148",
   "metadata": {},
   "outputs": [],
   "source": [
    "images = [Image.open(f\"{x}\") for x in all_images]\n",
    "widths, heights = zip(*(i.size for i in images))\n",
    "max_width = max(widths)\n",
    "total_height = sum(heights)\n",
    "new_im = Image.new('RGB', (max_width, total_height))\n",
    "\n",
    "y_offset = 0\n",
    "for im in images:\n",
    "  new_im.paste(im, (0,y_offset,))\n",
    "  y_offset += im.size[1]\n",
    "\n",
    "new_im.save(f'{where_i_am}{species}/{species}_all_graphs.png')"
   ]
  },
  {
   "cell_type": "markdown",
   "id": "38cf2fe8-54e3-4881-a6f8-9fb362badd00",
   "metadata": {},
   "source": [
    "#### Read small graphs one by one and merge them all to two columns"
   ]
  },
  {
   "cell_type": "code",
   "execution_count": 237,
   "id": "a1b48ab9-5846-44b1-a5b3-6ffdc012bb76",
   "metadata": {},
   "outputs": [],
   "source": [
    "def get_concat(all_images,im_width,im_height):\n",
    "    \n",
    "    images = [Image.open(all_images[i]) for i in range(len(all_images))]\n",
    "    if len(all_images)%2 == 0:\n",
    "        how_high=len(all_images)\n",
    "    else:\n",
    "        how_high=len(all_images)+1\n",
    "        \n",
    "    dst = Image.new('RGB', (2*im_width, int((how_high * im_height)/2)))\n",
    "    for i in range(0,len(images)+1,2):\n",
    "        try:\n",
    "            dst.paste(images[i], (0, int((i * im_height)/2)))\n",
    "        except IndexError:\n",
    "            pass\n",
    "        try:            \n",
    "            dst.paste(images[i+1], (im_width,  int((i * im_height)/2)))\n",
    "        except IndexError:\n",
    "            pass\n",
    "    return dst"
   ]
  },
  {
   "cell_type": "code",
   "execution_count": 238,
   "id": "09a664ca-1395-4ceb-8d90-3a477569af2c",
   "metadata": {},
   "outputs": [],
   "source": [
    "im = Image.open(all_images[0])\n",
    "im_width=im.size[0]\n",
    "im_height=im.size[1]\n",
    "im.close()"
   ]
  },
  {
   "cell_type": "code",
   "execution_count": 239,
   "id": "1436da5c-b196-4a1c-a5c6-f1715d32a5c7",
   "metadata": {},
   "outputs": [],
   "source": [
    "get_concat(all_images,im_width,im_height).save(f'{where_i_am}{species}/{species}_all_small_graphs.png')"
   ]
  },
  {
   "cell_type": "markdown",
   "id": "7193f6af-ed79-4184-9c84-fadfbbc987e8",
   "metadata": {},
   "source": [
    "# Put all png images to pdf file"
   ]
  },
  {
   "cell_type": "markdown",
   "id": "a4a0997c-baba-4d3a-8874-d3c72e6e9da2",
   "metadata": {},
   "source": [
    "In the end all the files are put together into the pdf file."
   ]
  },
  {
   "cell_type": "raw",
   "id": "0cb7c06d-c573-4cc0-974c-98112128f81b",
   "metadata": {},
   "source": [
    "import os\n",
    "from fpdf import FPDF"
   ]
  },
  {
   "cell_type": "raw",
   "id": "a7caad2f-816e-49de-ac16-03d5f2a9ea2d",
   "metadata": {},
   "source": [
    "imagelist=!ls | grep .png"
   ]
  },
  {
   "cell_type": "raw",
   "id": "d0ad5078-3c34-4f83-8f96-cab7cb635451",
   "metadata": {},
   "source": [
    "del imagelist[-1] # delete what does not delong to chromosomes"
   ]
  },
  {
   "cell_type": "raw",
   "id": "813c294e-798d-47f3-9cf4-fc84cfea5c49",
   "metadata": {},
   "source": [
    "imagelist=sorted(imagelist,key= lambda x:int(x.split('_')[-1].split('.')[0]))"
   ]
  },
  {
   "cell_type": "raw",
   "id": "4652a797-f7fd-4fef-b93d-31e06a2d2a73",
   "metadata": {},
   "source": [
    "pdf = FPDF(orientation = 'L')\n",
    "# imagelist is the list with all image filenames\n",
    "for image in imagelist:\n",
    "    pdf.add_page()\n",
    "    pdf.image(image,x=1,y=10,w=300,h=135)\n",
    "pdf.output(\"Profiles_gastropod.pdf\", \"F\")  # replace the name and relese no."
   ]
  },
  {
   "cell_type": "code",
   "execution_count": null,
   "id": "f289ac0b-03d8-4865-a27d-b676d2ca26f2",
   "metadata": {},
   "outputs": [],
   "source": []
  }
 ],
 "metadata": {
  "kernelspec": {
   "display_name": "Python 3 (ipykernel)",
   "language": "python",
   "name": "python3"
  },
  "language_info": {
   "codemirror_mode": {
    "name": "ipython",
    "version": 3
   },
   "file_extension": ".py",
   "mimetype": "text/x-python",
   "name": "python",
   "nbconvert_exporter": "python",
   "pygments_lexer": "ipython3",
   "version": "3.10.8"
  }
 },
 "nbformat": 4,
 "nbformat_minor": 5
}
