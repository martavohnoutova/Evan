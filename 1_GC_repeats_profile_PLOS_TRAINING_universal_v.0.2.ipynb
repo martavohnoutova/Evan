{
 "cells": [
  {
   "cell_type": "markdown",
   "id": "85532be8-a3b0-43ce-aa3a-621c539c5a18",
   "metadata": {},
   "source": [
    "# Comparison of GC of cephalopods in Ensembl or NCBI releases\n",
    "# batch 1\n",
    "\n",
    "<font color='red'>**For production**</font>\n",
    "\n",
    "<font color='red'>**New version for Cephalopods**</font>\n",
    "\n",
    "all done in batch - data are prepared by **batch_for_cephalophod_GC_repeats_profile_PLOS.py** in the same directory"
   ]
  },
  {
   "cell_type": "markdown",
   "id": "27d2ae7a-d848-4dc8-8cc7-21f1c2f010b8",
   "metadata": {},
   "source": [
    "Marta Vohnoutová, Radka Symonová\n",
    "\n",
    "version 0.2\n",
    "\n",
    "Changes:\n",
    "    \n",
    "    - dots in graphs - same density - adjasted to left\n",
    "    - pick up chromosomes only - universal"
   ]
  },
  {
   "cell_type": "markdown",
   "id": "9a25e608-3b91-4380-83f2-d8a9396855b7",
   "metadata": {},
   "source": [
    "## <font color='red'>2.Import section</font>"
   ]
  },
  {
   "cell_type": "code",
   "execution_count": 49,
   "id": "784f3a76-9d24-4177-93a4-f5bd9fb07c33",
   "metadata": {},
   "outputs": [],
   "source": [
    "#import pyensembl\n",
    "\n",
    "from Bio import SeqIO\n",
    "from Bio.SeqUtils import gc_fraction\n",
    "import matplotlib\n",
    "matplotlib.use('Agg')\n",
    "import matplotlib.pyplot as plt\n",
    "from matplotlib.ticker import FormatStrFormatter, StrMethodFormatter\n",
    "from matplotlib import font_manager\n",
    "\n",
    "import pandas as pd\n",
    "import numpy as np\n",
    "import os\n",
    "import csv\n",
    "from collections import OrderedDict\n",
    "from PIL import Image\n",
    "from glob import glob\n",
    "import pickle"
   ]
  },
  {
   "cell_type": "markdown",
   "id": "dedede07-c31a-4128-92e6-f7c28403a852",
   "metadata": {},
   "source": [
    "## <font color='red'>3.Configuration and download section</font>"
   ]
  },
  {
   "cell_type": "code",
   "execution_count": 2,
   "id": "5d83072e-d2ee-401c-99ac-5728c53122bc",
   "metadata": {},
   "outputs": [
    {
     "name": "stdout",
     "output_type": "stream",
     "text": [
      "/mnt/data/marta/evan/PlosComp/dataOIST\n"
     ]
    }
   ],
   "source": [
    "!pwd"
   ]
  },
  {
   "cell_type": "markdown",
   "id": "eefafe9a-4d62-4d45-95c7-caccdd9d0764",
   "metadata": {},
   "source": [
    "# upload what_to_operate for next usage\n",
    "\n",
    "# Evan testing only"
   ]
  },
  {
   "cell_type": "code",
   "execution_count": 54,
   "id": "b305ee8c-ae00-4956-8f4f-8a621ca19af6",
   "metadata": {},
   "outputs": [],
   "source": [
    "# read what_to_operate from pickle\n",
    "\n",
    "file = open(\"/home/marta/marta/marta/evan/PlosComp/dataOIST/pickles/what_to_operate_Lucia_chobotnice.pkl\",'rb')\n",
    "what_to_operate = pickle.load(file)\n",
    "file.close()"
   ]
  },
  {
   "cell_type": "raw",
   "id": "331cc414-62e4-44e3-8f6c-2f094efba22f",
   "metadata": {},
   "source": [
    "what_to_operate=[['/home/marta/marta/marta/evan/PlosComp/dataOIST/Ansgar/Prochlorococcus_marinus/marinus_Anasgar.fasta',\n",
    "  'Prochlorococcus_marinus',\n",
    "  [1000],\n",
    "  'rec.id.startswith(\"NZ\")',\n",
    "  'Ansgar']]"
   ]
  },
  {
   "cell_type": "code",
   "execution_count": 55,
   "id": "58d4ea39-de23-48a1-a454-b0cad8e502c5",
   "metadata": {},
   "outputs": [
    {
     "data": {
      "text/plain": [
       "[['/home/marta/marta/marta/evan/PlosComp/dataOIST/temp/GCA_001194135.2_ASM119413v2_chromosomes_soft_masked_ok.fa',\n",
       "  'Octopus bimaculoides',\n",
       "  [1000, 2000, 3000],\n",
       "  'rec.id.startswith(\"CM\")',\n",
       "  'Cephalopoda'],\n",
       " ['/home/marta/marta/marta/evan/PlosComp/dataOIST/temp/GCA_006345805.1_ASM634580v1_chromosomal_soft_masked_ok.fa',\n",
       "  'Octopus sinensis',\n",
       "  [1000, 2000, 3000],\n",
       "  'rec.id.startswith(\"CM\")',\n",
       "  'Cephalopoda'],\n",
       " ['/home/marta/marta/marta/evan/PlosComp/dataOIST/temp/GCA_007844125.1_ASM784412v1_chromosomes_soft_masked_ok.fa',\n",
       "  'Sinonovacula constricta',\n",
       "  [1000, 2000],\n",
       "  'rec.id.startswith(\"CM\")',\n",
       "  'Bivalvia'],\n",
       " ['/home/marta/marta/marta/evan/PlosComp/dataOIST/temp/GCA_009760885.1_ASM976088v1_chromosomes_soft_masked_ok.fa',\n",
       "  'Achatina immaculata',\n",
       "  [1000, 2000],\n",
       "  'rec.id.startswith(\"CM\")',\n",
       "  'Gastropoda'],\n",
       " ['/home/marta/marta/marta/evan/PlosComp/dataOIST/temp/GCA_014805675.2_ASM1480567v1.1_chromosomes_soft_masked_ok.fa',\n",
       "  'Mercenaria mercenaria',\n",
       "  [1000, 2000],\n",
       "  'rec.id.startswith(\"CM\")',\n",
       "  'Bivalvia'],\n",
       " ['/home/marta/marta/marta/evan/PlosComp/dataOIST/temp/GCA_014843695.1_ASM1484369v1_chromosomes_soft_masked_ok.fa',\n",
       "  'Archivesica marissinica',\n",
       "  [1000, 2000],\n",
       "  'rec.id.startswith(\"CM\")',\n",
       "  'Bivalvia'],\n",
       " ['/home/marta/marta/marta/evan/PlosComp/dataOIST/temp/GCA_016097555.1_Gae_host_chromosomes_soft_masked_ok.fa',\n",
       "  'Gigantopelta aegis',\n",
       "  [1000, 2000],\n",
       "  'rec.id.startswith(\"CM\")',\n",
       "  'Bivalvia'],\n",
       " ['/home/marta/marta/marta/evan/PlosComp/dataOIST/temp/GCA_020796225.1_ASM2079622v1_chromosomes_soft_masked_ok.fa',\n",
       "  'Arion vulgaris',\n",
       "  [1000, 2000],\n",
       "  'rec.id.startswith(\"CM\")',\n",
       "  'Bivalvia'],\n",
       " ['/home/marta/marta/marta/evan/PlosComp/dataOIST/temp/GCA_021229015.1_ASM2122901v1_chromosomes_soft_masked_ok.fa',\n",
       "  'Solen grandis',\n",
       "  [1000, 2000],\n",
       "  'rec.id.startswith(\"CM\")',\n",
       "  'Bivalvia'],\n",
       " ['/home/marta/marta/marta/evan/PlosComp/dataOIST/temp/GCA_021292105.1_ASM2129210v1_genomic_soft_masked_ok.fa',\n",
       "  'Anadara kagoshimensis',\n",
       "  [1000, 2000],\n",
       "  'rec.id.startswith(\"CM\")',\n",
       "  'Bivalvia'],\n",
       " ['/home/marta/marta/marta/evan/PlosComp/dataOIST/temp/GCA_024364805.1_ASM2436480v1_chromosomes_soft_masked_ok.fa',\n",
       "  'Euprymna scolopes',\n",
       "  [2000, 3000, 4000],\n",
       "  'rec.id.startswith(\"CM\")',\n",
       "  'Cephalopoda'],\n",
       " ['/home/marta/marta/marta/evan/PlosComp/dataOIST/temp/GCA_902825435.1_PGEN-v1.0_genomic_soft_masked_ok.fa',\n",
       "  'Panopea generosa',\n",
       "  [1000],\n",
       "  'rec.id.startswith(\"CA\")',\n",
       "  'Bivalvia'],\n",
       " ['/home/marta/marta/marta/evan/PlosComp/dataOIST/temp/GCA_921293015.1_xgPhoLine1.1_chromosomal_soft_masked_ok.fa',\n",
       "  'Phorcus lineatus',\n",
       "  [1000],\n",
       "  'rec.id.startswith(\"OV\")',\n",
       "  'Gastropoda'],\n",
       " ['/home/marta/marta/marta/evan/PlosComp/dataOIST/temp/GCA_951406725.2_xcOctVulg1.2_chromosomes_soft_masked_ok.fa',\n",
       "  'Octopus vulgaris',\n",
       "  [1000, 2000, 3000],\n",
       "  'rec.id.startswith(\"OX\")',\n",
       "  'Cephalopoda'],\n",
       " ['/home/marta/marta/marta/evan/PlosComp/dataOIST/temp/GWHBECU00000000_chromosomes_soft_masked_ok.fa',\n",
       "  'Lottia gigantea',\n",
       "  [3000, 4000, 5000],\n",
       "  'rec.id.startswith(\"GW\")',\n",
       "  'Bivalvia'],\n",
       " ['/home/marta/marta/marta/evan/PlosComp/dataOIST/temp/S_les_scaffolds_soft_masked_ok.fa',\n",
       "  'Sepioteuthis lessoniana',\n",
       "  [3000, 4000, 5000],\n",
       "  'rec.id.startswith(\"Scaf\")',\n",
       "  'Cephalopoda'],\n",
       " ['/home/marta/marta/marta/evan/PlosComp/dataOIST/temp/dot_pel_soft_masked_ok.fa',\n",
       "  'Doryteuthis pealeii',\n",
       "  [2000, 3000, 4000],\n",
       "  'rec.id.startswith(\"JAL\")',\n",
       "  'Cephalopoda'],\n",
       " ['/home/marta/marta/marta/evan/PlosComp/dataOIST/temp/xcThyRhom1_soft_masked_ok.fa',\n",
       "  'Thysanoteuthis rhombus',\n",
       "  [1000, 2000, 3000],\n",
       "  'rec.id.startswith(\"OY\")',\n",
       "  'Cephalopoda']]"
      ]
     },
     "execution_count": 55,
     "metadata": {},
     "output_type": "execute_result"
    }
   ],
   "source": [
    "what_to_operate"
   ]
  },
  {
   "cell_type": "raw",
   "id": "27523ab5-a666-4eb4-998a-c8f0d1b56a99",
   "metadata": {},
   "source": [
    "what_to_operate = [['/home/marta/marta/marta/evan/PlosComp/dataOIST/temp/GCA_024364805.1_ASM2436480v1_chromosomes_soft_masked_ok.fa',\n",
    "  'Euprymna scolopes CM044512',\n",
    "  [2000, 3000, 4000],\n",
    "  'rec.id.startswith(\"CM044512\")',\n",
    "  'Cephalopoda']]"
   ]
  },
  {
   "cell_type": "markdown",
   "id": "03d57507-7c8b-4c52-9170-bb1e62f046f0",
   "metadata": {},
   "source": [
    "## info about genome"
   ]
  },
  {
   "cell_type": "markdown",
   "id": "68d16536-9660-4725-b412-c53a4c3114df",
   "metadata": {},
   "source": [
    "### 3.1 Variable part - replace with right values"
   ]
  },
  {
   "cell_type": "code",
   "execution_count": 43,
   "id": "64dfa0ab-b6bc-41f2-ba01-27deeaed9d7d",
   "metadata": {},
   "outputs": [],
   "source": [
    "where_i_am = '/mnt/data/marta/evan/PlosComp/dataOIST/' # replace with your path\n",
    "column_name = 'GC DNA' # replace with your column name"
   ]
  },
  {
   "cell_type": "markdown",
   "id": "0dbbe7cd-aa8e-4562-8da9-c8043702b20a",
   "metadata": {},
   "source": [
    "#### Create subdirectory for particular species"
   ]
  },
  {
   "cell_type": "code",
   "execution_count": 44,
   "id": "4f93214b-813a-4f95-ad2e-6c282d697db2",
   "metadata": {},
   "outputs": [],
   "source": [
    "for my_fasta in what_to_operate:\n",
    "    try:\n",
    "        os.mkdir(f'{where_i_am}{my_fasta[4]}/{my_fasta[1]}')\n",
    "    except OSError as error:\n",
    "        pass"
   ]
  },
  {
   "cell_type": "markdown",
   "id": "b47c6b5d-75df-4646-88a9-b98aaecc75d7",
   "metadata": {},
   "source": [
    "# DNA only relese ..... - pandas table"
   ]
  },
  {
   "cell_type": "markdown",
   "id": "55988f40-7540-4f78-a5a8-cfbed8848db8",
   "metadata": {},
   "source": [
    "## GC DNA release ..... as a batch in cycle"
   ]
  },
  {
   "cell_type": "code",
   "execution_count": 45,
   "id": "f96cbccf-178c-4903-8414-89e4a4d682fa",
   "metadata": {},
   "outputs": [],
   "source": [
    "def how_many(my_seq,string):\n",
    "    my_sum=0\n",
    "    for base in string:\n",
    "        my_sum += my_seq.count(base)\n",
    "    return my_sum"
   ]
  },
  {
   "cell_type": "code",
   "execution_count": 46,
   "id": "4cca85d6-ac71-43a5-8512-85055f12643a",
   "metadata": {},
   "outputs": [],
   "source": [
    "# the cycle\n",
    "\n",
    "column_name = 'GC DNA' # replace with your column name"
   ]
  },
  {
   "cell_type": "code",
   "execution_count": 47,
   "id": "b1617d3f-f42c-4cbc-8b45-0f9755e7bb69",
   "metadata": {},
   "outputs": [
    {
     "name": "stdout",
     "output_type": "stream",
     "text": [
      "/home/marta/marta/marta/evan/PlosComp/dataOIST/Ansgar/Prochlorococcus_marinus/marinus_Anasgar.fasta 1000\n",
      "%GC of Prochlorococcus_marinus is 0.34830683717354904\n"
     ]
    }
   ],
   "source": [
    "plt.rcParams[\"figure.figsize\"] = [20.00, 20.00]\n",
    "\n",
    "for my_fasta_file in what_to_operate:  #highest level\n",
    "    for my_window in my_fasta_file[2]:\n",
    "        print(my_fasta_file[0],my_window)\n",
    "        sec_values = '' # replace with your release number\n",
    "        c=[]\n",
    "\n",
    "        GC_chromosoms=OrderedDict()\n",
    "        chomosome_no=0\n",
    "\n",
    "        gc_values=tuple()\n",
    "\n",
    "        d_sec_values = dict()\n",
    "\n",
    "        lengths=[]\n",
    "       \n",
    "        for rec in SeqIO.parse(f\"{my_fasta_file[0]}\", \"fasta\"):  # this cycle for max_len only\n",
    "            if eval(my_fasta_file[3]):\n",
    "                lengths.append(len(rec.seq))\n",
    "                \n",
    "        max_len=max(lengths)\n",
    "\n",
    "        for rec in SeqIO.parse(f\"{my_fasta_file[0]}\", \"fasta\"): \n",
    "            GC_chromosoms_windowed={}  # per chromosome\n",
    "            if eval(my_fasta_file[3]):  # chromosomes only\n",
    "        \n",
    "                # count GC values via sliding windows\n",
    "                c.append(rec.id)\n",
    "                sec_values += rec.seq\n",
    "                if len(sec_values) >= 10*my_window:\n",
    "                    gc_values = gc_values + tuple(gc_fraction(sec_values[i:i+my_window]) for i in range(0,len(sec_values),my_window)) # replace with your release number\n",
    "                    sec_values = ''\n",
    "        \n",
    "                # chromosomes\n",
    "                soft_mask= how_many(rec.seq,'acgt')\n",
    "                ALL_all=how_many(rec.seq,'acgtACGT')\n",
    "                GC_fraction=gc_fraction(rec.seq)\n",
    "                chomosome_no += 1\n",
    "                try:\n",
    "                    GC_chromosoms[str(chomosome_no) + '+' + rec.id]=((GC_fraction,soft_mask/ALL_all),len(rec.seq))  # we distract N and n   \n",
    "                except ZeroDivisionError:\n",
    "                    GC_chromosoms[str(chomosome_no)+'+'+ rec.id]=((GC_fraction,0.0), len(rec.seq)) # distract N and n\n",
    "        \n",
    "                # count bases\n",
    "                for base in 'acgtACGTNn':\n",
    "                    if base in d_sec_values:\n",
    "                        d_sec_values[base] += rec.seq.count(base)\n",
    "                    else:\n",
    "                        d_sec_values[base] = rec.seq.count(base)\n",
    "\n",
    "                # max length\n",
    "                #lengths.append(len(rec.seq))\n",
    "                \n",
    "                # graphs\n",
    "                for w in range(0,len(rec.seq),my_window):\n",
    "              \n",
    "                    #print(range(i,i+window),len(gc_values_94[i:i+window]))\n",
    "                    soft_mask= rec.seq[w:w+my_window].count('a') + rec.seq[w:w+my_window].count('t') + rec.seq[w:w+my_window].count('c') + rec.seq[w:w+my_window].count('g') \n",
    "                    ALL_all=soft_mask + rec.seq[w:w+my_window].count('A') + rec.seq[w:w+my_window].count('T') + rec.seq[w:w+my_window].count('C') + rec.seq[w:w+my_window].count('G')\n",
    "                    GC_fraction=gc_fraction(rec.seq[w:w+my_window])\n",
    "            \n",
    "                    try:\n",
    "                        GC_chromosoms_windowed[str(w)+'|'+ rec.id]=(GC_fraction,soft_mask/ALL_all)  # distract N and n    \n",
    "                        #print(range(i,i+window),len(gc_values_94[i:i+window])) \n",
    "                    except ZeroDivisionError:\n",
    "                        GC_chromosoms_windowed[str(w)+'|'+ rec.id]=(GC_fraction,0.0)  # distract N and n\n",
    "                        \n",
    "                # adjusted chromosome density\n",
    "                #print(rec.id)                \n",
    "            \n",
    "                \n",
    "                with open(f'{where_i_am}{my_fasta_file[4]}/{my_fasta_file[1]}/{my_fasta_file[1]}_profile_soft_unmask_{rec.id}.csv','w') as f: # replace the animal name and release no.\n",
    "                    csv_file = csv.writer(f)\n",
    "                    csv_file.writerows(GC_chromosoms_windowed.items())\n",
    "               \n",
    "               \n",
    "        columns_dna = [column_name] # replace with your name e.g. release number - default GC_DNA\n",
    "        gc_df_dna = pd.DataFrame(gc_values, columns = columns_dna) # replace with your release number\n",
    "\n",
    "        #all_images = sorted([os.path.basename(f) for f in glob(f\"{where_i_am}{my_fasta_file[1]}/*profile*.png\")],key=lambda x: int(x.split('_')[-1].split('.')[0]))\n",
    "\n",
    "        GC_chromosoms = OrderedDict(sorted(GC_chromosoms.items(), key=lambda x: x[1][1],reverse=True))\n",
    "\n",
    "        #max_len=max(lengths)\n",
    "    \n",
    "        gc_df_dna.to_csv(f'{where_i_am}{my_fasta_file[4]}/{my_fasta_file[1]}/{my_fasta_file[1]}_per_windows_{my_window}.csv')\n",
    "    \n",
    "        #GC_chromosoms # replace with your release number\n",
    "    \n",
    "        with open(f'{where_i_am}{my_fasta_file[4]}/{my_fasta_file[1]}/{my_fasta_file[1]}_chrom_GCproc_rep_MBP.csv','w') as f:  # name csv file as you wish \n",
    "            f.write('Chom.no. , Chom.name , GCproc , Rep , MBP\\n')\n",
    "            for k,v in GC_chromosoms.items():\n",
    "                f.write(f'{k.split(\"+\")[0]},{k.split(\"+\")[1]},{v[0][0]*100:.2f},{v[0][1]*100:.2f},{v[1]/1000000:.2f}\\n')\n",
    "                \n",
    "        # scattered graphs - color by value, no display\n",
    "        \n",
    "        # d sec values\n",
    "        with open(f'{where_i_am}{my_fasta_file[4]}/{my_fasta_file[1]}/{my_fasta_file[1]}_{my_window}.csv','w') as f:  # name csv file as you wish \n",
    "            for k,v in d_sec_values.items():\n",
    "                f.write(f'{k},{v}\\n')\n",
    "                \n",
    "        # results % GC\n",
    "        #print(f'%GC release 94 is {gc_94_all}, %GC release 108 is {gc_108_all}, %GC rel.94 / %GC rel 108 is {gc_94_all/gc_108_all}')\n",
    "        #gc_all = gc_fraction(sec_values)\n",
    "        gc_all = (d_sec_values['c']+d_sec_values['g']+d_sec_values['C']+d_sec_values['G'])/(d_sec_values['c']+d_sec_values['g']+d_sec_values['C']+d_sec_values['G'] +  d_sec_values['a']+d_sec_values['t']+d_sec_values['A']+d_sec_values['T'])\n",
    "        print(f'%GC of {my_fasta_file[1]} is {gc_all}')\n",
    "       \n",
    "            \n",
    "        #  Soft vs Unmasked\n",
    "        # GC to ATGC, gc to atgc\n",
    "        GC_to_ATGC={}\n",
    "        atgc_lower= d_sec_values['a'] + d_sec_values['t'] + d_sec_values['c']  + d_sec_values['g']  # 'atgc'\n",
    "        gc_lower=d_sec_values['c']  + d_sec_values['g'] # cg\n",
    "        atgc_upper=d_sec_values['A'] + d_sec_values['T'] + d_sec_values['C']  + d_sec_values['G'] # ATCG\n",
    "        gc_upper=d_sec_values['C']  + d_sec_values['G'] # CG\n",
    "        \n",
    "        try:\n",
    "            GC_to_ATGC['lower']=gc_lower/atgc_lower  # distract N and n\n",
    "        except ZeroDivisionError:\n",
    "            GC_to_ATGC['lower']=0.0\n",
    "        try:    \n",
    "            GC_to_ATGC['upper']=gc_upper/atgc_upper  # distract N and n\n",
    "        except ZeroDivisionError:\n",
    "            GC_to_ATGC['repeat%']=0.0\n",
    "        \n",
    "        GC_to_ATGC.items()\n",
    "        \n",
    "        \n",
    "        with open(f'{where_i_am}{my_fasta_file[4]}/{my_fasta_file[1]}/{my_fasta_file[1]}_GCtotal_lower_upper_repeat.csv','w') as f:  # name csv file as you wish\n",
    "            f.write(f'GC Total , {gc_all*100:.2f}\\n')\n",
    "            for k,v in GC_to_ATGC.items():\n",
    "                f.write(f'{k},{v*100:.2f}\\n')\n",
    "                \n",
    "        # GC soft and (small) and unmasked (capital) repetitions - by chromosomes\n",
    "        # GC DNA release ..... - by chromosomes\n",
    "        \n",
    "    "
   ]
  },
  {
   "cell_type": "code",
   "execution_count": null,
   "id": "6db19931-4415-4b6d-8948-88dea49fb486",
   "metadata": {},
   "outputs": [],
   "source": []
  },
  {
   "cell_type": "code",
   "execution_count": 48,
   "id": "02258cf6-88d8-4244-8724-30815dd960fb",
   "metadata": {},
   "outputs": [],
   "source": [
    "with open('/home/marta/marta/marta/evan/PlosComp/dataOIST/pickles/what_to_operate_Prochlorococcus_marinus.pkl', 'wb') as f:\n",
    "    pickle.dump(what_to_operate, f, pickle.HIGHEST_PROTOCOL)"
   ]
  },
  {
   "cell_type": "code",
   "execution_count": null,
   "id": "63718bfa-64b8-4a2c-a2b8-a1dc4e9ce286",
   "metadata": {},
   "outputs": [],
   "source": []
  }
 ],
 "metadata": {
  "kernelspec": {
   "display_name": "evan",
   "language": "python",
   "name": "evan"
  },
  "language_info": {
   "codemirror_mode": {
    "name": "ipython",
    "version": 3
   },
   "file_extension": ".py",
   "mimetype": "text/x-python",
   "name": "python",
   "nbconvert_exporter": "python",
   "pygments_lexer": "ipython3",
   "version": "3.9.13"
  }
 },
 "nbformat": 4,
 "nbformat_minor": 5
}
