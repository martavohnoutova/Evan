{
 "cells": [
  {
   "cell_type": "markdown",
   "id": "f3b9b075-9d3a-4f82-b806-0e45f047ec24",
   "metadata": {},
   "source": [
    "# Comparison of GC of cephalopods in Ensembl or NCBI releases\n",
    "# batch 3 - with spaces and \"N\" in genome with different color than cmap\n",
    "\n",
    "<font color='red'>**Guide of usage**</font>\n",
    "\n",
    "<font color='red'>**New version for Cephalopods**</font>\n",
    "\n",
    "all done in batch - data are prepared by **batch_for_cephalophod_GC_repeats_profile_PLOS.py** in the same directory"
   ]
  },
  {
   "cell_type": "markdown",
   "id": "894a2fdb-d22c-4f38-8b82-875682e4b787",
   "metadata": {},
   "source": [
    "Marta Vohnoutová, Radka Symonová\n",
    "\n",
    "version 0.3\n",
    "\n",
    "Changes:\n",
    "    \n",
    "    - dots in graphs - same density - adjasted to left\n",
    "    - pick up chromosomes only - universal\n",
    "    - with spaces and \"N\" in genome with different color than cmap"
   ]
  },
  {
   "cell_type": "markdown",
   "id": "85dd41fe-54dd-4536-81e2-16909a6c32b9",
   "metadata": {},
   "source": [
    "## <font color='red'>2.Import section</font>"
   ]
  },
  {
   "cell_type": "code",
   "execution_count": 47,
   "id": "784f3a76-9d24-4177-93a4-f5bd9fb07c33",
   "metadata": {},
   "outputs": [],
   "source": [
    "#import pyensembl\n",
    "\n",
    "from Bio import SeqIO\n",
    "from Bio.SeqUtils import gc_fraction\n",
    "import matplotlib\n",
    "matplotlib.use('Agg')\n",
    "import matplotlib.pyplot as plt\n",
    "from matplotlib.colors import ListedColormap\n",
    "from matplotlib.ticker import FormatStrFormatter, StrMethodFormatter\n",
    "from matplotlib.ticker import MaxNLocator\n",
    "from matplotlib import font_manager, cm\n",
    "plt.rcParams[\"figure.figsize\"] = [20.00, 20.00]\n",
    "import pandas as pd\n",
    "import numpy as np\n",
    "import os\n",
    "import csv\n",
    "from collections import OrderedDict\n",
    "from PIL import Image\n",
    "from glob import glob\n",
    "import pickle"
   ]
  },
  {
   "cell_type": "markdown",
   "id": "dedede07-c31a-4128-92e6-f7c28403a852",
   "metadata": {},
   "source": [
    "## <font color='red'>3.Configuration and download section</font>"
   ]
  },
  {
   "cell_type": "code",
   "execution_count": 48,
   "id": "5d83072e-d2ee-401c-99ac-5728c53122bc",
   "metadata": {},
   "outputs": [
    {
     "name": "stdout",
     "output_type": "stream",
     "text": [
      "/mnt/data/marta/evan/PlosComp/dataOIST\n"
     ]
    }
   ],
   "source": [
    "!pwd"
   ]
  },
  {
   "cell_type": "markdown",
   "id": "e54aefcd-3491-4ae5-b61d-ca677aa51ac5",
   "metadata": {},
   "source": [
    "# save what_to_operate for next usage"
   ]
  },
  {
   "cell_type": "raw",
   "id": "93cf6616-60ce-4eb4-bcca-c0527c3e7a7e",
   "metadata": {},
   "source": [
    "with open('pickles/what_to_operate.pkl', 'wb') as f:\n",
    "    pickle.dump(what_to_operate, f, pickle.HIGHEST_PROTOCOL)"
   ]
  },
  {
   "cell_type": "code",
   "execution_count": 49,
   "id": "b9920f75-aeae-461d-9331-cd3d7710ac0e",
   "metadata": {},
   "outputs": [],
   "source": [
    "# read what_to_operate from pickle\n",
    "\n",
    "file = open('/home/marta/marta/marta/evan/PlosComp/dataOIST/pickles/what_to_operate_Prochlorococcus_marinus.pkl','rb')\n",
    "what_to_operate = pickle.load(file)\n",
    "file.close()"
   ]
  },
  {
   "cell_type": "code",
   "execution_count": 50,
   "id": "884835ed-8425-4513-8a3c-327a3bb15341",
   "metadata": {},
   "outputs": [
    {
     "data": {
      "text/plain": [
       "[['/home/marta/marta/marta/evan/PlosComp/dataOIST/Ansgar/Prochlorococcus_marinus/GCF_000015665.1_ASM1566v1_genomic.fna',\n",
       "  'Prochlorococcus_marinus',\n",
       "  [100],\n",
       "  'rec.id.startswith(\"NC\")',\n",
       "  'Ansgar']]"
      ]
     },
     "execution_count": 50,
     "metadata": {},
     "output_type": "execute_result"
    }
   ],
   "source": [
    "what_to_operate"
   ]
  },
  {
   "cell_type": "raw",
   "id": "3e4633a9-7400-4e00-aea9-3be743ac7226",
   "metadata": {},
   "source": [
    "what_to_operate = [['/home/marta/marta/marta/evan/PlosComp/dataOIST/temp/GCA_024364805.1_ASM2436480v1_chromosomes_soft_masked_ok.fa',\n",
    "  'Euprymna scolopes CM044512',\n",
    "  [2000, 3000, 4000],\n",
    "  'rec.id.startswith(\"CM044512\")',\n",
    "  'Cephalopoda']]"
   ]
  },
  {
   "cell_type": "markdown",
   "id": "68d16536-9660-4725-b412-c53a4c3114df",
   "metadata": {},
   "source": [
    "### 3.1 Variable part - replace with right values"
   ]
  },
  {
   "cell_type": "code",
   "execution_count": 51,
   "id": "64dfa0ab-b6bc-41f2-ba01-27deeaed9d7d",
   "metadata": {},
   "outputs": [],
   "source": [
    "where_i_am = '/mnt/data/marta/evan/PlosComp/dataOIST/' # replace with your path\n",
    "column_name = 'GC DNA' # replace with your column name"
   ]
  },
  {
   "cell_type": "markdown",
   "id": "0dbbe7cd-aa8e-4562-8da9-c8043702b20a",
   "metadata": {},
   "source": [
    "#### Create subdirectory for particular species"
   ]
  },
  {
   "cell_type": "raw",
   "id": "7ef0d9b6-9ed4-4e51-9dde-d1b4892b18a7",
   "metadata": {},
   "source": [
    "try:\n",
    "    os.mkdir(f'{where_is_fasta}{species}')\n",
    "except OSError as error:\n",
    "    pass"
   ]
  },
  {
   "cell_type": "markdown",
   "id": "7b576006-ddec-4ccb-9c42-c49d14984d1c",
   "metadata": {},
   "source": [
    "## Merge all graph images "
   ]
  },
  {
   "cell_type": "markdown",
   "id": "9610dfd5-8a32-481d-8dcd-f3ae1fd0e82c",
   "metadata": {},
   "source": [
    "#### Prepare small graphs without colorbars"
   ]
  },
  {
   "cell_type": "code",
   "execution_count": 52,
   "id": "20b2031a-f4ab-40ba-b340-6c911a572e36",
   "metadata": {},
   "outputs": [],
   "source": [
    "def how_many(my_seq,string):\n",
    "    my_sum=0\n",
    "    for base in string:\n",
    "        my_sum += my_seq.count(base)\n",
    "    return my_sum"
   ]
  },
  {
   "cell_type": "code",
   "execution_count": 53,
   "id": "58ccec7d-13bf-4d22-9dd7-7a610668cfaa",
   "metadata": {},
   "outputs": [],
   "source": [
    "# Constants for graph\n",
    "column_name = 'GC DNA' # replace with your column name\n",
    "# Set a special value that should be colored differently\n",
    "special_value = 0.0\n",
    "\n",
    "special_color = (0.0,0.0,0.999,0.999)\n",
    "\n",
    "bottom = cm.get_cmap('RdYlGn', 255)\n",
    "special_color = (0.0,0.0,0.999,0.999)\n",
    "newcolors = np.vstack((special_color,bottom(np.linspace(0, 1, 255))))\n",
    "new_cmap = ListedColormap(newcolors, name='new_RdYlGn')\n",
    "\n",
    "slight_move=0.009         "
   ]
  },
  {
   "cell_type": "code",
   "execution_count": 54,
   "id": "43f8a8aa-b817-4d27-b8ce-4b579ff408cd",
   "metadata": {
    "tags": []
   },
   "outputs": [
    {
     "name": "stdout",
     "output_type": "stream",
     "text": [
      "/home/marta/marta/marta/evan/PlosComp/dataOIST/Ansgar/Prochlorococcus_marinus/GCF_000015665.1_ASM1566v1_genomic.fna 100\n",
      "Done Prochlorococcus_marinus 100\n"
     ]
    }
   ],
   "source": [
    "# adjusted chromosome density\n",
    "for my_fasta_file in what_to_operate:  #highest level\n",
    "    for my_window in my_fasta_file[2]:\n",
    "        print(my_fasta_file[0],my_window)\n",
    "        sec_values = '' # replace with your release number\n",
    "        c=[]\n",
    "\n",
    "        GC_chromosoms=OrderedDict()\n",
    "        chomosome_no=0\n",
    "\n",
    "        gc_values=tuple()\n",
    "\n",
    "        d_sec_values = dict()\n",
    "\n",
    "        max_len=max([len(rec.seq) for rec in SeqIO.parse(f\"{my_fasta_file[0]}\", \"fasta\")]) # max len to adjust x axis\n",
    "       \n",
    "        for rec in SeqIO.parse(f\"{my_fasta_file[0]}\", \"fasta\"): \n",
    "            GC_chromosoms_windowed={}  # per chromosome\n",
    "            if eval(my_fasta_file[3]):  # chromosomes only\n",
    "                # count GC values via sliding windows\n",
    "                c.append(rec.id)\n",
    "                sec_values += rec.seq\n",
    "                if len(sec_values) >= 10*my_window:\n",
    "                    gc_values = gc_values + tuple(gc_fraction(sec_values[i:i+my_window]) for i in range(0,len(sec_values),my_window)) # replace with your release number\n",
    "                    sec_values = ''\n",
    "        \n",
    "                # chromosomes\n",
    "                soft_mask= how_many(rec.seq,'acgt')\n",
    "                ALL_all=how_many(rec.seq,'acgtACGT')\n",
    "                GC_fraction=gc_fraction(rec.seq)\n",
    "                chomosome_no += 1\n",
    "                \n",
    "                try:\n",
    "                    GC_chromosoms[str(chomosome_no) + '+' + rec.id]=((GC_fraction,soft_mask/ALL_all),len(rec.seq))  # we distract N and n   \n",
    "                except ZeroDivisionError:\n",
    "                    GC_chromosoms[str(chomosome_no)+'+'+ rec.id]=((GC_fraction,0.0), len(rec.seq)) # distract N and n\n",
    "                  \n",
    "        \n",
    "                # count bases\n",
    "                for base in 'acgtACGTNn':\n",
    "                    if base in d_sec_values:\n",
    "                        d_sec_values[base] += rec.seq.count(base)\n",
    "                    else:\n",
    "                        d_sec_values[base] = rec.seq.count(base)\n",
    "\n",
    "                               \n",
    "                #print(rec.id)  \n",
    "                for w in range(0,len(rec.seq),my_window):\n",
    "              \n",
    "                    #print(range(i,i+window),len(gc_values_94[i:i+window]))\n",
    "                    soft_mask=sum(1 for i in rec.seq[w:w+my_window] if i in 'acgt')\n",
    "                    ALL_all=sum(1 for i in rec.seq[w:w+my_window] if i in 'acgtACGT')\n",
    "                    GC_fraction=gc_fraction(rec.seq[w:w+my_window])\n",
    "            \n",
    "                    try:\n",
    "                        GC_chromosoms_windowed[str(w)+'|'+ rec.id]=(GC_fraction,soft_mask/ALL_all)  # distract N and n    \n",
    "                        #print(range(i,i+window),len(gc_values_94[i:i+window])) \n",
    "                    except ZeroDivisionError:\n",
    "                        GC_chromosoms_windowed[str(w)+'|'+ rec.id]=(GC_fraction,0.0)  # distract N and n\n",
    "            \n",
    "                #fig = plt.figure(figsize=(int(50* (len(rec.seq)/max_len)),int(20* (len(rec.seq)/max_len))))\n",
    "                fig = plt.figure(figsize=(25,10))\n",
    "                ax1 = fig.add_subplot(111)\n",
    "        \n",
    "                names = list(GC_chromosoms_windowed.keys())\n",
    "                v = list(GC_chromosoms_windowed.values())\n",
    "                v1=[100 * i[0] for i in v]\n",
    "                #v2=[i[1] for i in v]\n",
    "                names_part=[n.split('|')[0] for n in names]\n",
    "                values = np.array([special_value if i[0]+i[1] == 0 else i[1]+slight_move if (i[1] ==0 and i[0] != 0) else i[1] for i in v])  # values for special_indices\n",
    "       \n",
    "                sc=ax1.scatter(names_part,v1, s=5, c=values, cmap=new_cmap, marker=\"o\", label='Blue dots are \"NNnn\" or spaces' ) # only GC fraction in y axe, only chromosomes\n",
    "                #plt.xlim(0, max_len)\n",
    "                #plt.gca().xaxis.set_major_locator(MaxNLocator(nbins=6))\n",
    "                \n",
    "                #locator=MaxNLocator(prune='both',nbins=10) # Adjust the number of ticks as needed\n",
    "                #ax1.yaxis.set_major_locator(locator)\n",
    "                ax1.xaxis.set_ticks(np.arange(0, max_len//my_window, max_len//12000))   \n",
    "                #ax1.set_xlim(0, max_len)\n",
    "                #plt.xlim(0, max_len)\n",
    "                \n",
    "                plt.title(f'GC% values of {my_fasta_file[1]} - {my_window} chromosome {rec.id}', fontsize = 30) # replace the animal name and release no.  \n",
    "                plt.xticks(fontsize = 20, rotation = 30)\n",
    "                plt.yticks(fontsize = 20)\n",
    "                plt.legend(labelcolor='blue')\n",
    "                \n",
    "                plt.savefig(f'{where_i_am}{my_fasta_file[4]}/{my_fasta_file[1]}/{my_fasta_file[1]}_{my_window}_nobar_soft_unmask_{rec.id}.{len(rec.seq)}.png')  # replace the animal name and release no.\n",
    "        \n",
    "                #plt.show()\n",
    "                plt.close('all')\n",
    "        print(f'Done {my_fasta_file[1]} {my_window}')"
   ]
  },
  {
   "cell_type": "markdown",
   "id": "e00f80f7-ba07-432e-8a3c-731bd005db3c",
   "metadata": {},
   "source": [
    "#### Read graphs one by one and merge them all"
   ]
  },
  {
   "cell_type": "code",
   "execution_count": 55,
   "id": "46056cba-eada-4b03-997d-30713bf5e397",
   "metadata": {},
   "outputs": [],
   "source": [
    "# list of all graph images sorted to chromosomes no."
   ]
  },
  {
   "cell_type": "raw",
   "id": "377adefc-49c9-4139-8b67-c32204c8e458",
   "metadata": {},
   "source": [
    "def directories_only(text):\n",
    "  last_occurence = text.rfind('/')\n",
    "  if last_occurence == -1:\n",
    "    return text\n",
    "  return text[:last_occurence+1]"
   ]
  },
  {
   "cell_type": "code",
   "execution_count": 56,
   "id": "fd996b47-c300-45d0-bb91-62fd6795dd81",
   "metadata": {},
   "outputs": [],
   "source": [
    "def get_concat(all_images,im_width,im_height):\n",
    "    \n",
    "    images = [Image.open(all_images[i]) for i in range(len(all_images))]\n",
    "    if len(all_images)%2 == 0:\n",
    "        how_high=len(all_images)\n",
    "    else:\n",
    "        how_high=len(all_images)+1\n",
    "        \n",
    "    dst = Image.new('RGB', (2*im_width, int((how_high * im_height)/2)))\n",
    "    dst.paste(Image.open(f'{directories_only(my_fasta_file[0])}headtitle_{my_fasta_file[1]}_{my_window}.png'), (0, 0))\n",
    "        \n",
    "    for i in range(0,len(images)+1,2):\n",
    "        try:\n",
    "            dst.paste(images[i], (0, int((i * im_height)/2)))\n",
    "        except IndexError:\n",
    "            pass\n",
    "        try:            \n",
    "            dst.paste(images[i+1], (im_width,  int((i * im_height)/2)))\n",
    "        except IndexError:\n",
    "            pass\n",
    "    return dst"
   ]
  },
  {
   "cell_type": "code",
   "execution_count": 57,
   "id": "6e5657aa-2522-46e4-ac4a-44f4f267c45a",
   "metadata": {},
   "outputs": [
    {
     "ename": "FileNotFoundError",
     "evalue": "[Errno 2] No such file or directory: '/home/marta/marta/marta/evan/PlosComp/dataOIST/Ansgar/Prochlorococcus_marinus/headtitle_Prochlorococcus_marinus_100.png'",
     "output_type": "error",
     "traceback": [
      "\u001b[0;31m---------------------------------------------------------------------------\u001b[0m",
      "\u001b[0;31mFileNotFoundError\u001b[0m                         Traceback (most recent call last)",
      "\u001b[0;32m/tmp/ipykernel_31802/632184309.py\u001b[0m in \u001b[0;36m<module>\u001b[0;34m\u001b[0m\n\u001b[1;32m     36\u001b[0m         \u001b[0mim\u001b[0m\u001b[0;34m.\u001b[0m\u001b[0mclose\u001b[0m\u001b[0;34m(\u001b[0m\u001b[0;34m)\u001b[0m\u001b[0;34m\u001b[0m\u001b[0;34m\u001b[0m\u001b[0m\n\u001b[1;32m     37\u001b[0m \u001b[0;34m\u001b[0m\u001b[0m\n\u001b[0;32m---> 38\u001b[0;31m         \u001b[0mget_concat\u001b[0m\u001b[0;34m(\u001b[0m\u001b[0mall_images\u001b[0m\u001b[0;34m,\u001b[0m\u001b[0mim_width\u001b[0m\u001b[0;34m,\u001b[0m\u001b[0mim_height\u001b[0m\u001b[0;34m)\u001b[0m\u001b[0;34m.\u001b[0m\u001b[0msave\u001b[0m\u001b[0;34m(\u001b[0m\u001b[0;34mf'{dir_name}{my_fasta_file[1]}_{my_window}.png'\u001b[0m\u001b[0;34m)\u001b[0m\u001b[0;34m\u001b[0m\u001b[0;34m\u001b[0m\u001b[0m\n\u001b[0m\u001b[1;32m     39\u001b[0m         \u001b[0mprint\u001b[0m\u001b[0;34m(\u001b[0m\u001b[0;34mf'{my_window}_{my_fasta_file[1]}'\u001b[0m\u001b[0;34m)\u001b[0m\u001b[0;34m\u001b[0m\u001b[0;34m\u001b[0m\u001b[0m\n",
      "\u001b[0;32m/tmp/ipykernel_31802/2256268846.py\u001b[0m in \u001b[0;36mget_concat\u001b[0;34m(all_images, im_width, im_height)\u001b[0m\n\u001b[1;32m      8\u001b[0m \u001b[0;34m\u001b[0m\u001b[0m\n\u001b[1;32m      9\u001b[0m     \u001b[0mdst\u001b[0m \u001b[0;34m=\u001b[0m \u001b[0mImage\u001b[0m\u001b[0;34m.\u001b[0m\u001b[0mnew\u001b[0m\u001b[0;34m(\u001b[0m\u001b[0;34m'RGB'\u001b[0m\u001b[0;34m,\u001b[0m \u001b[0;34m(\u001b[0m\u001b[0;36m2\u001b[0m\u001b[0;34m*\u001b[0m\u001b[0mim_width\u001b[0m\u001b[0;34m,\u001b[0m \u001b[0mint\u001b[0m\u001b[0;34m(\u001b[0m\u001b[0;34m(\u001b[0m\u001b[0mhow_high\u001b[0m \u001b[0;34m*\u001b[0m \u001b[0mim_height\u001b[0m\u001b[0;34m)\u001b[0m\u001b[0;34m/\u001b[0m\u001b[0;36m2\u001b[0m\u001b[0;34m)\u001b[0m\u001b[0;34m)\u001b[0m\u001b[0;34m)\u001b[0m\u001b[0;34m\u001b[0m\u001b[0;34m\u001b[0m\u001b[0m\n\u001b[0;32m---> 10\u001b[0;31m     \u001b[0mdst\u001b[0m\u001b[0;34m.\u001b[0m\u001b[0mpaste\u001b[0m\u001b[0;34m(\u001b[0m\u001b[0mImage\u001b[0m\u001b[0;34m.\u001b[0m\u001b[0mopen\u001b[0m\u001b[0;34m(\u001b[0m\u001b[0;34mf'{directories_only(my_fasta_file[0])}headtitle_{my_fasta_file[1]}_{my_window}.png'\u001b[0m\u001b[0;34m)\u001b[0m\u001b[0;34m,\u001b[0m \u001b[0;34m(\u001b[0m\u001b[0;36m0\u001b[0m\u001b[0;34m,\u001b[0m \u001b[0;36m0\u001b[0m\u001b[0;34m)\u001b[0m\u001b[0;34m)\u001b[0m\u001b[0;34m\u001b[0m\u001b[0;34m\u001b[0m\u001b[0m\n\u001b[0m\u001b[1;32m     11\u001b[0m \u001b[0;34m\u001b[0m\u001b[0m\n\u001b[1;32m     12\u001b[0m     \u001b[0;32mfor\u001b[0m \u001b[0mi\u001b[0m \u001b[0;32min\u001b[0m \u001b[0mrange\u001b[0m\u001b[0;34m(\u001b[0m\u001b[0;36m0\u001b[0m\u001b[0;34m,\u001b[0m\u001b[0mlen\u001b[0m\u001b[0;34m(\u001b[0m\u001b[0mimages\u001b[0m\u001b[0;34m)\u001b[0m\u001b[0;34m+\u001b[0m\u001b[0;36m1\u001b[0m\u001b[0;34m,\u001b[0m\u001b[0;36m2\u001b[0m\u001b[0;34m)\u001b[0m\u001b[0;34m:\u001b[0m\u001b[0;34m\u001b[0m\u001b[0;34m\u001b[0m\u001b[0m\n",
      "\u001b[0;32m~/anaconda3/lib/python3.9/site-packages/PIL/Image.py\u001b[0m in \u001b[0;36mopen\u001b[0;34m(fp, mode, formats)\u001b[0m\n\u001b[1;32m   3090\u001b[0m \u001b[0;34m\u001b[0m\u001b[0m\n\u001b[1;32m   3091\u001b[0m     \u001b[0;32mif\u001b[0m \u001b[0mfilename\u001b[0m\u001b[0;34m:\u001b[0m\u001b[0;34m\u001b[0m\u001b[0;34m\u001b[0m\u001b[0m\n\u001b[0;32m-> 3092\u001b[0;31m         \u001b[0mfp\u001b[0m \u001b[0;34m=\u001b[0m \u001b[0mbuiltins\u001b[0m\u001b[0;34m.\u001b[0m\u001b[0mopen\u001b[0m\u001b[0;34m(\u001b[0m\u001b[0mfilename\u001b[0m\u001b[0;34m,\u001b[0m \u001b[0;34m\"rb\"\u001b[0m\u001b[0;34m)\u001b[0m\u001b[0;34m\u001b[0m\u001b[0;34m\u001b[0m\u001b[0m\n\u001b[0m\u001b[1;32m   3093\u001b[0m         \u001b[0mexclusive_fp\u001b[0m \u001b[0;34m=\u001b[0m \u001b[0;32mTrue\u001b[0m\u001b[0;34m\u001b[0m\u001b[0;34m\u001b[0m\u001b[0m\n\u001b[1;32m   3094\u001b[0m \u001b[0;34m\u001b[0m\u001b[0m\n",
      "\u001b[0;31mFileNotFoundError\u001b[0m: [Errno 2] No such file or directory: '/home/marta/marta/marta/evan/PlosComp/dataOIST/Ansgar/Prochlorococcus_marinus/headtitle_Prochlorococcus_marinus_100.png'"
     ]
    }
   ],
   "source": [
    "my_pwd=!pwd\n",
    "for my_fasta_file in what_to_operate:  #highest level\n",
    "    for my_window in my_fasta_file[2]:\n",
    "        #print(directories_only(my_fasta_file[0]),my_window)\n",
    "        # cycle for all nobar images for species and window   \n",
    "        \n",
    "        dir_name= f'{my_pwd[0]}' + '/'+f'{what_to_operate[0][4]}' + '/'+ f'{what_to_operate[0][1]}'+'/'\n",
    "        file_name= dir_name + '*' + f'{my_window}' +'_nobar*.png'\n",
    "        all_images = sorted([f for f in glob(f\"{file_name}\")],key=lambda x: os.path.getsize(x), reverse = True)\n",
    "        #print(all_images)\n",
    "        images = [Image.open(f\"{x}\") for x in all_images]\n",
    "        widths, heights = zip(*(i.size for i in images))\n",
    "        max_width = max(widths)\n",
    "        total_height = sum(heights)\n",
    "        new_im = Image.new('RGB', (max_width, total_height))\n",
    "\n",
    "        y_offset = 0\n",
    "        for im in images:\n",
    "            new_im.paste(im, (0,y_offset,))\n",
    "            y_offset += im.size[1]\n",
    "\n",
    "        new_im.save(f'{dir_name}{my_fasta_file[1]}_{my_window}_all_graphs.png')\n",
    "        \n",
    "        # Read small graphs one by one and merge them all to two columns¶\n",
    "        fig = plt.figure(figsize=(0.01,0.01))\n",
    "        plt.title(f'{my_fasta_file[1]} - sliding window {my_window} ', fontsize = 18)  # Replace the animal name\n",
    "\n",
    "        plt.savefig(f'{dir_name}{my_fasta_file[1]}_{my_window}.png')  # Replace the animal name\n",
    "        #plt.show()\n",
    "        \n",
    "        plt.close('all')\n",
    "        \n",
    "        im = Image.open(all_images[0])\n",
    "        im_width=im.size[0]\n",
    "        im_height=im.size[1]\n",
    "        im.close()\n",
    "        \n",
    "        get_concat(all_images,im_width,im_height).save(f'{dir_name}{my_fasta_file[1]}_{my_window}.png')\n",
    "        print(f'{my_window}_{my_fasta_file[1]}')"
   ]
  },
  {
   "cell_type": "code",
   "execution_count": 42,
   "id": "9aa421bc-8aa5-4c63-a958-a276b20ebd12",
   "metadata": {},
   "outputs": [
    {
     "data": {
      "text/plain": [
       "'/mnt/data/marta/evan/PlosComp/dataOIST/Fish/Sander/*1000_nobar*.png'"
      ]
     },
     "execution_count": 42,
     "metadata": {},
     "output_type": "execute_result"
    }
   ],
   "source": [
    "dir_name"
   ]
  },
  {
   "cell_type": "markdown",
   "id": "7193f6af-ed79-4184-9c84-fadfbbc987e8",
   "metadata": {},
   "source": [
    "# Put all png images to pdf file"
   ]
  },
  {
   "cell_type": "markdown",
   "id": "a4a0997c-baba-4d3a-8874-d3c72e6e9da2",
   "metadata": {},
   "source": [
    "In the end all the files are put together into the pdf file."
   ]
  },
  {
   "cell_type": "raw",
   "id": "0cb7c06d-c573-4cc0-974c-98112128f81b",
   "metadata": {},
   "source": [
    "import os\n",
    "from fpdf import FPDF"
   ]
  },
  {
   "cell_type": "raw",
   "id": "a7caad2f-816e-49de-ac16-03d5f2a9ea2d",
   "metadata": {},
   "source": [
    "imagelist=!ls | grep .png"
   ]
  },
  {
   "cell_type": "raw",
   "id": "d0ad5078-3c34-4f83-8f96-cab7cb635451",
   "metadata": {},
   "source": [
    "del imagelist[-1] # delete what does not delong to chromosomes"
   ]
  },
  {
   "cell_type": "raw",
   "id": "813c294e-798d-47f3-9cf4-fc84cfea5c49",
   "metadata": {},
   "source": [
    "imagelist=sorted(imagelist,key= lambda x:int(x.split('_')[-1].split('.')[0]))"
   ]
  },
  {
   "cell_type": "raw",
   "id": "4652a797-f7fd-4fef-b93d-31e06a2d2a73",
   "metadata": {},
   "source": [
    "pdf = FPDF(orientation = 'L')\n",
    "# imagelist is the list with all image filenames\n",
    "for image in imagelist:\n",
    "    pdf.add_page()\n",
    "    pdf.image(image,x=1,y=10,w=300,h=135)\n",
    "pdf.output(\"Profiles_gastropod.pdf\", \"F\")  # replace the name and relese no."
   ]
  },
  {
   "cell_type": "code",
   "execution_count": null,
   "id": "24f8aac3-8da3-4048-9cb4-4ceaab0781b5",
   "metadata": {},
   "outputs": [],
   "source": []
  },
  {
   "cell_type": "code",
   "execution_count": null,
   "id": "ae5ea6ed-404c-4819-b33c-2d74454cda4f",
   "metadata": {},
   "outputs": [],
   "source": []
  }
 ],
 "metadata": {
  "kernelspec": {
   "display_name": "evan",
   "language": "python",
   "name": "evan"
  },
  "language_info": {
   "codemirror_mode": {
    "name": "ipython",
    "version": 3
   },
   "file_extension": ".py",
   "mimetype": "text/x-python",
   "name": "python",
   "nbconvert_exporter": "python",
   "pygments_lexer": "ipython3",
   "version": "3.9.13"
  }
 },
 "nbformat": 4,
 "nbformat_minor": 5
}
